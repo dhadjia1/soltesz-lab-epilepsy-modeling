{
 "cells": [
  {
   "cell_type": "code",
   "execution_count": 1,
   "metadata": {},
   "outputs": [],
   "source": [
    "import numpy as np\n",
    "from copy import deepcopy\n",
    "from pprint import pprint\n",
    "import sys, os, time\n",
    "import matplotlib\n",
    "import matplotlib.pyplot as plt\n",
    "from mpl_toolkits import mplot3d\n",
    "from matplotlib.pyplot import cm\n",
    "\n",
    "\n",
    "sys.path.append('/mnt/e/dhh-soltesz-lab/zfish-proj/src-parallel/operation-figgeritout/comp-modeling/utils')\n",
    "\n",
    "from futils import extract_weights, data2percentile, jthreshold, permute_weights\n",
    "from modeling_analysis_utils import extract_top_J, load_simulation_parameters, plot_example_traces\n",
    "from graph_utils import generate_snap_unweighted_graph\n",
    "from rnn_modeling_utils import solve_stochastic_euler\n",
    "font = {'family' : 'normal',\n",
    "        'weight' : 'bold',\n",
    "        'size'   : 22}\n",
    "\n",
    "matplotlib.rc('font', **font)\n",
    "\n",
    "%load_ext autoreload\n",
    "%autoreload 2\n",
    "\n",
    "## ei analysis, modularity analysis, motif analysis"
   ]
  },
  {
   "cell_type": "code",
   "execution_count": 89,
   "metadata": {},
   "outputs": [],
   "source": [
    "FISH_ID = 5\n",
    "version = 1\n",
    "\n",
    "def acquire_info(date, state, idx):\n",
    "    J_filepath           = '/mnt/f/dhh-soltesz-lab/zfish-modeling-outputs/f%i/%s/v%i/training-%s' % (FISH_ID, state, version, date)\n",
    "    parameters_filepath  = '/mnt/f/dhh-soltesz-lab/zfish-modeling-outputs/f%i/%s/v%i/additional-info-%s.npz' % (FISH_ID, state, version, date)\n",
    "\n",
    "    f = np.load(J_filepath + '/full-%s-%i.npz' % (state,idx), allow_pickle=True)\n",
    "    J = f['J']\n",
    "    N = J.shape[0]\n",
    "    f.close()\n",
    "\n",
    "    simulation_kwargs = load_simulation_parameters(parameters_filepath)\n",
    "    simulation_kwargs['J'] = J\n",
    "\n",
    "    Ytruth = simulation_kwargs['Ytruth']\n",
    "    currents    = solve_stochastic_euler(**simulation_kwargs)\n",
    "    activations = np.tanh(currents)\n",
    "    Ymodel      = np.matmul(J, activations)\n",
    "\n",
    "\n",
    "    simulation_kwargs['H'] = np.zeros_like(simulation_kwargs['H'], dtype='float32')\n",
    "    currents_naked    = solve_stochastic_euler(**simulation_kwargs)\n",
    "    activations_naked = np.tanh(currents_naked)\n",
    "    Ymodel_naked     = np.matmul(J, activations_naked)\n",
    "    \n",
    "    return {'spatial': simulation_kwargs['spatial'], 'J': J, 'Ytruth': Ytruth, 'Ymodel': Ymodel, 'Ymodel naked': Ymodel_naked, 'currents': currents, 'currents naked': currents_naked}\n",
    "# 2 381 270\n",
    "# 3 646 285\n",
    "# 5 362 83\n",
    "baseline_data = acquire_info('3152020', 'baseline', 362)\n",
    "presz_data    = acquire_info('3152020', 'presz', 83)\n",
    "\n",
    "Jbaseline = baseline_data['J']\n",
    "Jpresz    = presz_data['J']"
   ]
  },
  {
   "cell_type": "code",
   "execution_count": 105,
   "metadata": {
    "scrolled": true
   },
   "outputs": [
    {
     "name": "stdout",
     "output_type": "stream",
     "text": [
      "0 117107\n",
      "5000 117107\n",
      "10000 117107\n",
      "15000 117107\n",
      "20000 117107\n",
      "25000 117107\n",
      "30000 117107\n",
      "35000 117107\n",
      "40000 117107\n",
      "45000 117107\n",
      "50000 117107\n",
      "55000 117107\n",
      "60000 117107\n",
      "65000 117107\n",
      "70000 117107\n",
      "75000 117107\n",
      "80000 117107\n",
      "85000 117107\n",
      "90000 117107\n",
      "95000 117107\n",
      "100000 117107\n",
      "105000 117107\n",
      "110000 117107\n",
      "115000 117107\n",
      "0 117107\n",
      "5000 117107\n",
      "10000 117107\n",
      "15000 117107\n",
      "20000 117107\n",
      "25000 117107\n",
      "30000 117107\n",
      "35000 117107\n",
      "40000 117107\n",
      "45000 117107\n",
      "50000 117107\n",
      "55000 117107\n",
      "60000 117107\n",
      "65000 117107\n",
      "70000 117107\n",
      "75000 117107\n",
      "80000 117107\n",
      "85000 117107\n",
      "90000 117107\n",
      "95000 117107\n",
      "100000 117107\n",
      "105000 117107\n",
      "110000 117107\n",
      "115000 117107\n",
      "0 118139\n",
      "5000 118139\n",
      "10000 118139\n",
      "15000 118139\n",
      "20000 118139\n",
      "25000 118139\n",
      "30000 118139\n",
      "35000 118139\n",
      "40000 118139\n",
      "45000 118139\n",
      "50000 118139\n",
      "55000 118139\n",
      "60000 118139\n",
      "65000 118139\n",
      "70000 118139\n",
      "75000 118139\n",
      "80000 118139\n",
      "85000 118139\n",
      "90000 118139\n",
      "95000 118139\n",
      "100000 118139\n",
      "105000 118139\n",
      "110000 118139\n",
      "115000 118139\n",
      "0 118139\n",
      "5000 118139\n",
      "10000 118139\n",
      "15000 118139\n",
      "20000 118139\n",
      "25000 118139\n",
      "30000 118139\n",
      "35000 118139\n",
      "40000 118139\n",
      "45000 118139\n",
      "50000 118139\n",
      "55000 118139\n",
      "60000 118139\n",
      "65000 118139\n",
      "70000 118139\n",
      "75000 118139\n",
      "80000 118139\n",
      "85000 118139\n",
      "90000 118139\n",
      "95000 118139\n",
      "100000 118139\n",
      "105000 118139\n",
      "110000 118139\n",
      "115000 118139\n"
     ]
    }
   ],
   "source": [
    "from graph_utils import extract_motifs\n",
    "   \n",
    "th = 90\n",
    "Jbaseline_th             = jthreshold(Jbaseline,th,above=True,pos=True,binarized=True)\n",
    "baseline_sender_triplets = extract_motifs(Jbaseline_th.T, motif='send')\n",
    "baseline_receiver_triplets = extract_motifs(Jbaseline_th.T, motif='receive')\n",
    "\n",
    "\n",
    "Jpresz_th         = jthreshold(Jpresz, th, above=True, pos=True, binarized=True)\n",
    "presz_sender_triplets = extract_motifs(Jpresz_th.T, motif='send')\n",
    "presz_receiver_triplets = extract_motifs(Jpresz_th.T, motif='receive')\n",
    "\n"
   ]
  },
  {
   "cell_type": "code",
   "execution_count": 133,
   "metadata": {
    "scrolled": true
   },
   "outputs": [
    {
     "name": "stdout",
     "output_type": "stream",
     "text": [
      "484 484\n"
     ]
    }
   ],
   "source": [
    "from graph_utils import nid_motif_participation\n",
    "\n",
    "pcutoff = 90\n",
    "N = Jbaseline.shape[0]\n",
    "\n",
    "# get top 5% of senders\n",
    "baseline_sender_head   = nid_motif_participation(baseline_sender_triplets, N, loc='head') / 2\n",
    "baseline_sender_highest = np.where(baseline_sender_head > np.percentile(baseline_sender_head, 90))[0]\n",
    "\n",
    "presz_sender_head      = nid_motif_participation(presz_sender_triplets, N, loc='head') / 2\n",
    "presz_sender_highest = np.where(presz_sender_head > np.percentile(presz_sender_head, 90))[0]\n",
    "\n",
    "sender_motif_jump = -1*(presz_sender_head - baseline_sender_head)\n",
    "send_jump_cutoff = np.percentile(sender_motif_jump, pcutoff)\n",
    "sender_jump_hubs = np.where((sender_motif_jump > send_jump_cutoff))[0]\n",
    "\n",
    "\n",
    "# get top 5% of receivers\n",
    "baseline_receiver_head = nid_motif_participation(baseline_receiver_triplets, N, loc='head')/2\n",
    "baseline_receiver_highest = np.where(baseline_receiver_head > np.percentile(baseline_receiver_head, 90))[0]\n",
    "\n",
    "presz_receiver_head    = nid_motif_participation(presz_receiver_triplets, N, loc='head') / 2\n",
    "presz_receiver_highest = np.where(presz_receiver_head > np.percentile(presz_receiver_head, 90))[0]\n",
    "\n",
    "receiver_motif_jump    = -1*(presz_receiver_head - baseline_receiver_head)\n",
    "receive_jump_cutoff = np.percentile(receiver_motif_jump, pcutoff)\n",
    "receiver_jump_hubs   = np.where(receiver_motif_jump > receive_jump_cutoff)[0]\n",
    "\n"
   ]
  },
  {
   "cell_type": "code",
   "execution_count": 109,
   "metadata": {
    "scrolled": false
   },
   "outputs": [
    {
     "data": {
      "image/png": "[encoded data removed]",
      "text/plain": [
       "<Figure size 432x288 with 1 Axes>"
      ]
     },
     "metadata": {
      "needs_background": "light"
     },
     "output_type": "display_data"
    },
    {
     "data": {
      "image/png": "[encoded data removed]",
      "text/plain": [
       "<Figure size 432x288 with 1 Axes>"
      ]
     },
     "metadata": {
      "needs_background": "light"
     },
     "output_type": "display_data"
    }
   ],
   "source": [
    "from graph_utils import plot_motif_statistics\n",
    "%matplotlib inline\n",
    "\n",
    "#plot_motif_statistics(baseline_sender_head, presz_sender_head)\n",
    "# plot_motif_statistics(baseline_receiver_head, presz_receiver_head)\n",
    "\n",
    "\n",
    "plt.figure()\n",
    "plt.scatter(baseline_sender_head, presz_sender_head, color='k', alpha=0.05)\n",
    "plt.scatter(baseline_sender_head[sender_jump_hubs], presz_sender_head[sender_jump_hubs], color='r')\n",
    "plt.plot([i for i in range(15000)], [i for i in range(15000)], color='c', linestyle='--')\n",
    "plt.xscale('log'); plt.yscale('log')\n",
    "plt.show()\n",
    "\n",
    "plt.figure()\n",
    "plt.scatter(baseline_receiver_head, presz_receiver_head, color='k', alpha=0.05)\n",
    "plt.scatter(baseline_receiver_head[receiver_jump_hubs], presz_receiver_head[receiver_jump_hubs], color='r')\n",
    "plt.plot([i for i in range(15000)], [i for i in range(15000)], color='c', linestyle='--')\n",
    "plt.xscale('log'); plt.yscale('log')\n",
    "plt.show()\n"
   ]
  },
  {
   "cell_type": "code",
   "execution_count": 181,
   "metadata": {},
   "outputs": [],
   "source": [
    "from copy import deepcopy\n",
    "from futils import get_ei\n",
    "from scipy.stats import ranksums\n",
    "from scipy.stats import wilcoxon\n",
    "\n",
    "def reduce_matrix(J, idxs):\n",
    "    Jcopy = deepcopy(J)\n",
    "#     Jpos = jthreshold(Jcopy, 90., above=True, pos=True, binarized=False, cutoff_val=None)\n",
    "#     Jneg = jthreshold(Jcopy, 90., above=True, pos=False, binarized=False, cutoff_val=None)\n",
    "#     Jcopy = Jpos + -1*Jneg\n",
    "    return Jcopy[idxs,:][:,idxs]\n",
    "\n",
    "idxs = list(sender_thalamus) + list(receiver_telen) + list(receiver_tectum)\n",
    "#idxs = list(thalamus) + list(telen) + list(tectum)\n",
    "Jpre_reduced  = reduce_matrix(Jpresz, idxs)\n",
    "Jbase_reduced = reduce_matrix(Jbaseline, idxs)\n",
    "\n",
    "thalamus_pre_ei_presz, thalamus_pre_ei_base  = [], []\n",
    "for i in range(len(thalamus_idxs)):\n",
    "    pre_slice = Jpre_reduced[len(thalamus_idxs):,i]\n",
    "    thalamus_pre_ei_presz.append(get_ei(pre_slice))\n",
    "    pre_slice = Jbase_reduced[len(thalamus_idxs):,i]\n",
    "    thalamus_pre_ei_base.append(get_ei(pre_slice))\n",
    "thalamus_pre_ei_presz = np.asarray(thalamus_pre_ei_presz, dtype='float32')\n",
    "thalamus_pre_ei_base  = np.asarray(thalamus_pre_ei_base, dtype='float32')\n",
    "\n",
    "##\n",
    "\n",
    "telen_post_ei_base, telen_post_ei_presz = [], []\n",
    "for i in range(len(thalamus_idxs), len(thalamus_idxs) + len(telen_idxs)):\n",
    "    pre_slice = Jpre_reduced[i,:len(thalamus_idxs)]\n",
    "    telen_post_ei_presz.append(get_ei(pre_slice))\n",
    "    pre_slice2 = Jbase_reduced[i,:len(thalamus_idxs)]\n",
    "    telen_post_ei_base.append(get_ei(pre_slice2))\n",
    "telen_post_ei_base = np.asarray(telen_post_ei_base, dtype='float32')\n",
    "telen_post_ei_presz = np.asarray(telen_post_ei_presz, dtype='float32')\n",
    "    \n",
    "\n",
    "###\n",
    "\n",
    "tectum_post_ei_base, tectum_post_ei_presz = [], []\n",
    "for i in range(len(thalamus_idxs) + len(telen_idxs),len(idxs)):\n",
    "    pre_slice = Jpre_reduced[i,:len(thalamus_idxs)]\n",
    "    tectum_post_ei_presz.append(get_ei(pre_slice))\n",
    "    pre_slice = Jbase_reduced[i,:len(thalamus_idxs)]\n",
    "    tectum_post_ei_base.append(get_ei(pre_slice))\n",
    "tectum_post_ei_base = np.asarray(tectum_post_ei_base, dtype='float32')\n",
    "tectum_post_ei_presz = np.asarray(tectum_post_ei_presz, dtype='float32')\n",
    "\n",
    "\n",
    "### bad\n",
    "\n",
    "# Jpre_tect = reduce_matrix(Jpresz, tectum_idxs)\n",
    "# Jbase_tect = reduce_matrix(Jbaseline, tectum_idxs)\n",
    "\n",
    "# tectum_pre_ei_base, tectum_pre_ei_presz = [], []\n",
    "# for i in range(Jpre_tect.shape[0]):\n",
    "#     pre_slice = Jpre_tect[:,i]\n",
    "#     tectum_pre_ei_presz.append(get_ei(pre_slice))\n",
    "#     pre_slice = Jbase_tect[:,i]\n",
    "#     tectum_pre_ei_base.append(get_ei(pre_slice))\n",
    "# tectum_pre_ei_base = np.asarray(tectum_pre_ei_base, dtype='float32')\n",
    "# tectum_pre_ei_presz = np.asarray(tectum_pre_ei_presz, dtype='float32')\n",
    "\n"
   ]
  },
  {
   "cell_type": "code",
   "execution_count": 176,
   "metadata": {},
   "outputs": [
    {
     "name": "stdout",
     "output_type": "stream",
     "text": [
      "1.1990669 0.97659117\n",
      "0.8846738636493683 0.7689530551433563\n"
     ]
    }
   ],
   "source": [
    "# thalamus\n",
    "\n",
    "plt.figure()\n",
    "bplot = plt.boxplot([thalamus_pre_ei_base, thalamus_pre_ei_presz],\n",
    "               showfliers=False)\n",
    "\n",
    "\n",
    "colors = ['k', 'r']\n",
    "for patch, color in zip(bplot['boxes'], colors):\n",
    "    patch.set_color(color)\n",
    "    patch.set_linewidth(3)\n",
    "for patch, color in zip(bplot['medians'], colors):\n",
    "    patch.set_color(color)\n",
    "    patch.set_linewidth(3)\n",
    "    \n",
    "colors = ['k', 'k', 'r', 'r']\n",
    "for patch, color in zip(bplot['whiskers'], colors):\n",
    "    patch.set_color(color)\n",
    "    patch.set_linewidth(2)\n",
    "    \n",
    "for patch, color in zip(bplot['caps'], colors):\n",
    "    patch.set_color(color)\n",
    "    patch.set_linewidth(2)\n",
    "\n",
    "#plt.scatter([1 for _ in range(len(tectum_post_ei_base))], tectum_post_ei_base, color='k', facecolors='none', alpha=0.5)\n",
    "#plt.scatter([2 for _ in range(len(tectum_post_ei_presz))], tectum_post_ei_presz, color='r', facecolors='none', alpha=0.5)\n",
    "plt.plot([1,2], [np.median(thalamus_pre_ei_base), np.median(thalamus_pre_ei_presz)], color='k', linestyle='--')\n",
    "plt.plot([0.5, 2.5], [1,1], color='k', alpha=0.2)\n",
    "#plt.yscale('log')\n",
    "plt.show()\n",
    "\n",
    "print(np.median(thalamus_pre_ei_base), np.median(thalamus_pre_ei_presz))\n",
    "print(np.percentile(thalamus_pre_ei_base,25.), np.percentile(thalamus_pre_ei_presz, 25.))\n"
   ]
  },
  {
   "cell_type": "code",
   "execution_count": 63,
   "metadata": {},
   "outputs": [
    {
     "name": "stdout",
     "output_type": "stream",
     "text": [
      "1.337406\n",
      "0.81720674\n",
      "2.0404472\n",
      "1.2062564\n",
      "5.241232\n",
      "0.9656485\n",
      "0.7195216\n",
      "1.114848\n",
      "1.0390353\n",
      "1.414337\n",
      "1.5845181\n",
      "0.99706143\n",
      "1.5328712\n",
      "1.0623963\n",
      "1.7010099\n",
      "1.4055189\n",
      "1.3673289\n",
      "1.7747791\n",
      "1.2974591\n",
      "1.426027\n",
      "2.535181\n",
      "2.3148293\n",
      "0.9783538\n",
      "1.5154734\n",
      "1.1796738\n",
      "0.86104614\n",
      "1.4705929\n",
      "0.7513416\n",
      "0.82635534\n",
      "0.59548175\n",
      "1.1019356\n",
      "1.1148233\n",
      "0.52106106\n",
      "0.7270292\n",
      "5.3360085\n",
      "0.50684875\n",
      "2.5111265\n",
      "0.71671844\n",
      "0.74700814\n",
      "0.7885019\n",
      "0.94015515\n",
      "1.4252766\n",
      "0.49676043\n",
      "8.324622\n",
      "0.95812815\n",
      "2.2091513\n",
      "0.53607917\n",
      "0.8285617\n",
      "1.5753202\n",
      "0.65980214\n",
      "0.39766198\n",
      "1.0423775\n",
      "1.8256142\n",
      "2.9574385\n",
      "0.9750683\n",
      "0.5784142\n",
      "0.4794573\n",
      "7.5643644\n",
      "2.2656252\n",
      "1.5500321\n",
      "2.1672192\n",
      "0.67745626\n",
      "1.0631286\n",
      "0.74595416\n",
      "1.8618712\n",
      "1.1065223\n",
      "1.637581\n",
      "2.4376304\n",
      "1.5827769\n",
      "0.9166129\n",
      "4.3034816\n",
      "1.0217707\n",
      "1.4152354\n",
      "0.7502186\n",
      "0.8070399\n",
      "1.8833448\n",
      "2.0663035\n",
      "2.07418\n",
      "0.8075052\n",
      "0.7113258\n",
      "1.6123339\n",
      "1.0325856\n",
      "1.0625238\n",
      "2.7121167\n",
      "1.7177962\n",
      "1.7996434\n",
      "0.71099746\n",
      "0.7319324\n",
      "1.0489225\n",
      "1.2772919\n",
      "1.2424178\n",
      "0.7218208\n",
      "1.2853276\n",
      "1.4876424\n",
      "1.3307287\n",
      "1.6390685\n",
      "2.3439806\n",
      "1.3988171\n",
      "0.8960716\n",
      "1.5636222\n",
      "3.2171562\n",
      "1.1516352\n",
      "0.53972536\n",
      "0.90830034\n",
      "0.78587025\n",
      "2.5872374\n",
      "0.7110589\n"
     ]
    }
   ],
   "source": [
    "%matplotlib inline\n",
    "my_string = '\\n'.join(map(str, thalamus_pre_ei_presz))\n",
    "print(my_string)"
   ]
  },
  {
   "cell_type": "code",
   "execution_count": 179,
   "metadata": {},
   "outputs": [
    {
     "name": "stdout",
     "output_type": "stream",
     "text": [
      "0.92413855 1.3061806\n",
      "0.47145987302064896 0.7463343292474747\n"
     ]
    }
   ],
   "source": [
    "# telencephalon\n",
    "\n",
    "fig, ax = plt.subplots()\n",
    "bplot = ax.boxplot([telen_post_ei_base, telen_post_ei_presz], showfliers=False)\n",
    "colors = ['k', 'r']\n",
    "for patch, color in zip(bplot['boxes'], colors):\n",
    "    patch.set_color(color)\n",
    "    patch.set_linewidth(3)\n",
    "for patch, color in zip(bplot['medians'], colors):\n",
    "    patch.set_color(color)\n",
    "    patch.set_linewidth(3)\n",
    "    \n",
    "colors = ['k', 'k', 'r', 'r']\n",
    "for patch, color in zip(bplot['whiskers'], colors):\n",
    "    patch.set_color(color)\n",
    "    patch.set_linewidth(2)\n",
    "    \n",
    "for patch, color in zip(bplot['caps'], colors):\n",
    "    patch.set_color(color)\n",
    "    patch.set_linewidth(2)\n",
    "    \n",
    "    \n",
    "#plt.scatter([1 for _ in range(len(telen_post_ei_base))], telen_post_ei_base, color='k', facecolors='none', alpha=0.5)\n",
    "#plt.scatter([2 for _ in range(len(telen_post_ei_presz))], telen_post_ei_presz, color='r', facecolors='none', alpha=0.5)\n",
    "plt.plot([1,2], [np.median(telen_post_ei_base), np.median(telen_post_ei_presz)], color='k', linestyle='--')\n",
    "plt.plot([0.5, 2.5], [1,1], color='k', alpha=0.2)\n",
    "#plt.yscale('log')\n",
    "plt.show()\n",
    "\n",
    "print(np.median(telen_post_ei_base), np.median(telen_post_ei_presz))\n",
    "print(np.percentile(telen_post_ei_base, 25.), np.percentile(telen_post_ei_presz, 25.))\n"
   ]
  },
  {
   "cell_type": "code",
   "execution_count": 183,
   "metadata": {},
   "outputs": [
    {
     "name": "stdout",
     "output_type": "stream",
     "text": [
      "1.1091422 0.97600985\n",
      "0.6229961961507797 0.42581169307231903\n"
     ]
    }
   ],
   "source": [
    "# tectum\n",
    "\n",
    "fig, ax = plt.subplots()\n",
    "bplot = ax.boxplot([tectum_post_ei_base, tectum_post_ei_presz], positions=[1,2], showfliers=False)\n",
    "\n",
    "colors = ['k', 'r']\n",
    "for patch, color in zip(bplot['boxes'], colors):\n",
    "    patch.set_color(color)\n",
    "    patch.set_linewidth(3)\n",
    "for patch, color in zip(bplot['medians'], colors):\n",
    "    patch.set_color(color)\n",
    "    patch.set_linewidth(3)\n",
    "    \n",
    "colors = ['k', 'k', 'r', 'r']\n",
    "for patch, color in zip(bplot['whiskers'], colors):\n",
    "    patch.set_color(color)\n",
    "    patch.set_linewidth(2)\n",
    "    \n",
    "for patch, color in zip(bplot['caps'], colors):\n",
    "    patch.set_color(color)\n",
    "    patch.set_linewidth(2)\n",
    "\n",
    "#plt.scatter([1 for _ in range(len(tectum_post_ei_base))], tectum_post_ei_base, color='k', facecolors='none', alpha=0.5)\n",
    "#plt.scatter([2 for _ in range(len(tectum_post_ei_presz))], tectum_post_ei_presz, color='r', facecolors='none', alpha=0.5)\n",
    "plt.plot([1,2], [np.median(tectum_post_ei_base), np.median(tectum_post_ei_presz)], color='k', linestyle='--')\n",
    "plt.plot([0.5, 2.5], [1,1], color='k', alpha=0.2)\n",
    "#plt.yscale('log')\n",
    "plt.show()\n",
    "\n",
    "print(np.median(tectum_post_ei_base), np.median(tectum_post_ei_presz))\n",
    "print(np.percentile(tectum_post_ei_base, 25.), np.percentile(tectum_post_ei_presz, 25.))\n"
   ]
  },
  {
   "cell_type": "code",
   "execution_count": 52,
   "metadata": {},
   "outputs": [
    {
     "name": "stdout",
     "output_type": "stream",
     "text": [
      "0.1286177\n"
     ]
    }
   ],
   "source": [
    "print(np.median([tectum_post_ei_presz[i] - tectum_post_ei_base[i] for i in range(len(tectum_post_ei_base))]))"
   ]
  },
  {
   "cell_type": "code",
   "execution_count": 110,
   "metadata": {},
   "outputs": [],
   "source": [
    "from modeling_analysis_utils import load_neurons\n",
    "FISH_ID = 5\n",
    "traces_full_filepath         = '../data/f090518-%iZbrain_IDs.npz' % FISH_ID\n",
    "mask_filepath                = '../data/f090518-%iZbrain_IDs.npz' % FISH_ID\n",
    "\n",
    "###\n",
    "_, all_spatial_coords        = load_neurons(mask_filepath, region_name=['Telencephalon -', \n",
    "                                                                         'Mesencephalon -', \n",
    "                                                                         'Diencephalon -', \n",
    "                                                                         'Rhombencephalon -',], extend=True)\n",
    "all_spatial_coords = np.asarray(all_spatial_coords, dtype='float32')\n",
    "\n",
    "_, dthalamus_spatial_coords  = load_neurons(mask_filepath, region_name='Diencephalon - Dorsal Thalamus')\n",
    "_, vthalamus_spatial_coords = load_neurons(mask_filepath, region_name='Diencephalon - Ventral Thalamus')\n",
    "\n",
    "_, cerebellum_spatial_coords = load_neurons(mask_filepath, region_name='Rhombencephalon - Cerebellum')\n",
    "_, hypothalamus_spatial_coords   = load_neurons(mask_filepath, region_name='Diencephalon - Intermediate Hypothalamus')\n",
    "                                                                        \n",
    "_, preoptic_spatial_coords = load_neurons(mask_filepath,region_name='Diencephalon - Preoptic Area')\n",
    "_, tectum_spatial_coords   = load_neurons(mask_filepath, region_name='Mesencephalon - Tectum Stratum Periventriculare')\n",
    "\n",
    "\n",
    "_, pallium_spatial_coords = load_neurons(mask_filepath, region_name='Telencephalon - Pallium')\n",
    "_, subpallium_spatial_coords = load_neurons(mask_filepath, region_name='Telencephalon - Subpallium')\n",
    "\n"
   ]
  },
  {
   "cell_type": "code",
   "execution_count": 192,
   "metadata": {},
   "outputs": [
    {
     "name": "stdout",
     "output_type": "stream",
     "text": [
      "Using matplotlib backend: Qt5Agg\n"
     ]
    }
   ],
   "source": [
    "# get thalamic and preoptic neurons\n",
    "\n",
    "from sklearn.cluster import KMeans\n",
    "%matplotlib auto\n",
    "def plot_clusters(coords, membership):\n",
    "\n",
    "    colors = ['r', 'b', 'g', 'm', 'k']\n",
    "    membership = np.asarray(membership, dtype='uint8')\n",
    "    fig = plt.figure(figsize=(12,6))\n",
    "    ax = fig.add_subplot(projection='3d')\n",
    "\n",
    "    mset = list(set(membership))\n",
    "    for m in mset:\n",
    "        pos = np.where(membership == m)[0]\n",
    "        ccoords = coords[pos,:]\n",
    "        \n",
    "        ax.scatter(*ccoords.T, color=colors[m])\n",
    "    ax.scatter(*presz_data['spatial'].T, color='k', alpha=0.05)\n",
    "    ax.scatter(*cerebellum_spatial_coords.T, color='c')\n",
    "    #ax.scatter(*tectum_spatial_coords.T, color='m', alpha=0.05)\n",
    "    ax.scatter(*dthalamus_spatial_coords.T, color='gray', alpha=0.5)\n",
    "    ax.scatter(*vthalamus_spatial_coords.T, color='gray', alpha=0.55)\n",
    "    #ax.scatter(*preoptic_spatial_coords.T, color='k')\n",
    "    #ax.scatter(*pallium_spatial_coords.T, color='gray')\n",
    "    #ax.scatter(*subpallium_spatial_coords.T, color='k')\n",
    "       \n",
    "    ax.view_init(45,0)\n",
    "    plt.show()\n",
    "        \n",
    "### jump hubs\n",
    "\n",
    "#km = KMeans(n_clusters=3)\n",
    "#sender_labels = km.fit_predict(baseline_data['spatial'][sender_jump_hubs,:])\n",
    "#plot_clusters(baseline_data['spatial'][sender_jump_hubs,:],sender_labels)\n",
    "sender_thalamus = sender_jump_hubs[np.where(sender_labels == 2)[0]]\n",
    "\n",
    "#km = KMeans(n_clusters=2)\n",
    "#s = km.fit_predict(baseline_data['spatial'][sender_thalamus,:])\n",
    "#sender_thalamus2 = sender_thalamus[np.where(s == 1)[0]]\n",
    "\n",
    "\n",
    "#km = KMeans(n_clusters=3)\n",
    "#receiver_labels = km.fit_predict(baseline_data['spatial'][receiver_jump_hubs,:])\n",
    "plot_clusters(baseline_data['spatial'][receiver_jump_hubs,:], receiver_labels)\n",
    "\n",
    "receiver_tectum = receiver_jump_hubs[np.where((receiver_labels == 0)|(receiver_labels==2))[0]]\n",
    "#receiver_tectum  = receiver_jump_hubs[np.where(receiver_labels == 2)[0]]\n",
    "receiver_telen  = receiver_jump_hubs[np.where(receiver_labels == 1)[0]]\n",
    "\n",
    "######## presz hubs\n",
    "\n",
    "#km = KMeans(n_clusters=3)\n",
    "#sender_labels = km.fit_predict(baseline_data['spatial'][presz_sender_highest,:])\n",
    "#plot_clusters(baseline_data['spatial'][presz_sender_highest,:], sender_labels)\n",
    "\n",
    "#sender_thalamus = presz_sender_highest[np.where(sender_labels == 0)[0]]\n",
    "#sender_rest     = presz_sender_highest[np.where((sender_labels == 0)|(sender_labels==1))[0]]\n",
    "#sender_preoptic = sender_jump_hubs[np.where(sender_labels == 0)[0]]\n",
    "\n",
    "#km = KMeans(n_clusters=3)\n",
    "#receiver_labels = km.fit_predict(baseline_data['spatial'][presz_receiver_highest,:])\n",
    "#plot_clusters(baseline_data['spatial'][presz_receiver_highest,:], receiver_labels)\n",
    "\n",
    "#receiver_tectum = presz_receiver_highest[np.where((receiver_labels == 0)|(receiver_labels==1))[0]]\n",
    "#receiver_telen  = presz_receiver_highest[np.where(receiver_labels == 2)[0]]\n"
   ]
  },
  {
   "cell_type": "code",
   "execution_count": 161,
   "metadata": {},
   "outputs": [],
   "source": [
    "from graph_utils import get_outgoing_degrees\n",
    "\n",
    "def get_percentiles(J, idxs, threshold):\n",
    "    idx_percentiles = []\n",
    "    percentiles = data2percentile(get_outgoing_degrees(J, threshold))\n",
    "    for idx in idxs:\n",
    "        idx_percentiles.append(percentiles[idx])\n",
    "    return idx_percentiles\n",
    "\n",
    "\n",
    "idx_labels = ['thalamus', 'telen', 'tectum']\n",
    "idxs = [sender_thalamus, receiver_telen, receiver_tectum]\n",
    "presz_outgoing_percentiles, presz_incoming_percentiles       = get_percentiles(Jpresz, idxs, 90.), get_percentiles(Jpresz.T, idxs, 90.)\n",
    "baseline_outgoing_percentiles, baseline_incoming_percentiles = get_percentiles(Jbaseline, idxs, 90.), get_percentiles(Jbaseline.T, idxs, 90)\n",
    "\n",
    "\n",
    "\n",
    "for i in range(1):\n",
    "    plt.figure()\n",
    "    plt.boxplot([baseline_outgoing_percentiles[i], presz_outgoing_percentiles[i]], positions=[0,1])\n",
    "    plt.title(idx_labels[i])\n",
    "    plt.show()\n",
    "    \n",
    "for i in [1,2]:\n",
    "    plt.figure()\n",
    "    plt.boxplot([baseline_incoming_percentiles[i], presz_incoming_percentiles[i]], positions=[0,1])\n",
    "    plt.title(idx_labels[i])\n",
    "    plt.show()\n",
    "    \n",
    "fig, ax = plt.subplots(1,2, figsize=(14,6))\n",
    "ax[0].boxplot(presz_outgoing_percentiles, positions=[0,1,2])\n",
    "ax[1].boxplot(presz_incoming_percentiles, positions=[0,1,2])\n",
    "plt.show()\n",
    "\n",
    "\n",
    "\n",
    "# plt.figure(figsize=(12,8))\n",
    "# plt.scatter(baseline_sender_head, presz_sender_head, color='k', alpha=0.5)\n",
    "# plt.scatter(baseline_sender_head[sender_thalamus], presz_sender_head[sender_thalamus], color='r', label='thalamus')\n",
    "# # plt.scatter(baseline_sender_head[receiver_tectum], presz_sender_head[receiver_tectum], color='g', label='tectum')\n",
    "# # plt.scatter(baseline_sender_head[receiver_telen], presz_sender_head[receiver_telen], color='b', label='telen')\n",
    "# plt.plot([i for i in range(15000)], [i for i in range(15000)])\n",
    "# plt.legend()\n",
    "# plt.xscale('log'); plt.yscale('log')"
   ]
  },
  {
   "cell_type": "code",
   "execution_count": 11,
   "metadata": {},
   "outputs": [
    {
     "ename": "NameError",
     "evalue": "name 'baseline_evc_hubs' is not defined",
     "output_type": "error",
     "traceback": [
      "\u001b[0;31m---------------------------------------------------------------------------\u001b[0m",
      "\u001b[0;31mNameError\u001b[0m                                 Traceback (most recent call last)",
      "\u001b[0;32m<ipython-input-11-c4c4243e569e>\u001b[0m in \u001b[0;36m<module>\u001b[0;34m\u001b[0m\n\u001b[1;32m     10\u001b[0m \u001b[0max\u001b[0m \u001b[0;34m=\u001b[0m \u001b[0mfig\u001b[0m\u001b[0;34m.\u001b[0m\u001b[0madd_subplot\u001b[0m\u001b[0;34m(\u001b[0m\u001b[0mprojection\u001b[0m\u001b[0;34m=\u001b[0m\u001b[0;34m'3d'\u001b[0m\u001b[0;34m)\u001b[0m\u001b[0;34m\u001b[0m\u001b[0;34m\u001b[0m\u001b[0m\n\u001b[1;32m     11\u001b[0m \u001b[0max\u001b[0m\u001b[0;34m.\u001b[0m\u001b[0mscatter\u001b[0m\u001b[0;34m(\u001b[0m\u001b[0;34m*\u001b[0m\u001b[0mbaseline_data\u001b[0m\u001b[0;34m[\u001b[0m\u001b[0;34m'spatial'\u001b[0m\u001b[0;34m]\u001b[0m\u001b[0;34m.\u001b[0m\u001b[0mT\u001b[0m\u001b[0;34m,\u001b[0m \u001b[0mcolor\u001b[0m\u001b[0;34m=\u001b[0m\u001b[0;34m'k'\u001b[0m\u001b[0;34m,\u001b[0m \u001b[0malpha\u001b[0m\u001b[0;34m=\u001b[0m\u001b[0;36m0.05\u001b[0m\u001b[0;34m)\u001b[0m\u001b[0;34m\u001b[0m\u001b[0;34m\u001b[0m\u001b[0m\n\u001b[0;32m---> 12\u001b[0;31m \u001b[0max\u001b[0m\u001b[0;34m.\u001b[0m\u001b[0mscatter\u001b[0m\u001b[0;34m(\u001b[0m\u001b[0;34m*\u001b[0m\u001b[0mbaseline_data\u001b[0m\u001b[0;34m[\u001b[0m\u001b[0;34m'spatial'\u001b[0m\u001b[0;34m]\u001b[0m\u001b[0;34m[\u001b[0m\u001b[0mbaseline_evc_hubs\u001b[0m\u001b[0;34m,\u001b[0m\u001b[0;34m:\u001b[0m\u001b[0;34m]\u001b[0m\u001b[0;34m.\u001b[0m\u001b[0mT\u001b[0m\u001b[0;34m,\u001b[0m \u001b[0mcolor\u001b[0m\u001b[0;34m=\u001b[0m\u001b[0;34m'r'\u001b[0m\u001b[0;34m)\u001b[0m\u001b[0;34m\u001b[0m\u001b[0;34m\u001b[0m\u001b[0m\n\u001b[0m\u001b[1;32m     13\u001b[0m \u001b[0max\u001b[0m\u001b[0;34m.\u001b[0m\u001b[0mscatter\u001b[0m\u001b[0;34m(\u001b[0m\u001b[0;34m*\u001b[0m\u001b[0mdthalamus_spatial_coords\u001b[0m\u001b[0;34m.\u001b[0m\u001b[0mT\u001b[0m\u001b[0;34m,\u001b[0m \u001b[0mcolor\u001b[0m\u001b[0;34m=\u001b[0m\u001b[0;34m'g'\u001b[0m\u001b[0;34m)\u001b[0m\u001b[0;34m\u001b[0m\u001b[0;34m\u001b[0m\u001b[0m\n\u001b[1;32m     14\u001b[0m \u001b[0max\u001b[0m\u001b[0;34m.\u001b[0m\u001b[0mscatter\u001b[0m\u001b[0;34m(\u001b[0m\u001b[0;34m*\u001b[0m\u001b[0mvthalamus_spatial_coords\u001b[0m\u001b[0;34m.\u001b[0m\u001b[0mT\u001b[0m\u001b[0;34m,\u001b[0m \u001b[0mcolor\u001b[0m\u001b[0;34m=\u001b[0m\u001b[0;34m'g'\u001b[0m\u001b[0;34m)\u001b[0m\u001b[0;34m\u001b[0m\u001b[0;34m\u001b[0m\u001b[0m\n",
      "\u001b[0;31mNameError\u001b[0m: name 'baseline_evc_hubs' is not defined"
     ]
    }
   ],
   "source": [
    "\n",
    "# fig = plt.figure(figsize=(12,6))\n",
    "# ax = fig.add_subplot(projection='3d')\n",
    "# ax.scatter(*baseline_data['spatial'].T, color='k', alpha=0.05)\n",
    "# ax.scatter(*baseline_data['spatial'][baseline_receiver_highest,:].T, color='b')\n",
    "# ax.scatter(*dthalamus_spatial_coords.T, color='g')\n",
    "# ax.scatter(*vthalamus_spatial_coords.T, color='g')\n",
    "# plt.show()\n",
    "\n",
    "fig = plt.figure(figsize=(12,6))\n",
    "ax = fig.add_subplot(projection='3d')\n",
    "ax.scatter(*baseline_data['spatial'].T, color='k', alpha=0.05)\n",
    "ax.scatter(*baseline_data['spatial'][baseline_evc_hubs,:].T, color='r')\n",
    "ax.scatter(*dthalamus_spatial_coords.T, color='g')\n",
    "ax.scatter(*vthalamus_spatial_coords.T, color='g')\n",
    "plt.show()"
   ]
  },
  {
   "cell_type": "code",
   "execution_count": 57,
   "metadata": {},
   "outputs": [
    {
     "name": "stdout",
     "output_type": "stream",
     "text": [
      "323,1012,1013,1014,1016,1017,1018,1021,1024,1031,1033,1040,1043,1053,1058,1059,1060,1064,1070,1071,1072,1073,1074,1076,1078,1080,1100,1106,1115,1116,1117,1120,1192,1193,1195,1204,1205,1207,1210,1217,1243,1244,1256,1257,1268,1271,1275,1278,1280,1287,1312,1317,1322,1324,1327,1366,1373,1382,1392,1394,1395,1405,1406,1479,1485,1527,1532,1535,1580,1582,1584,1589,1646,1663,1667,1668,1669,1671,1672,1678,1680,1681,1682,1684,1689,1690,1691,1692,1696,1697,1699,1704,1706,1707,1708,1710,1711,1713,1718,1720,1722,1723,1725,1728,1732,1733,1734,1739,1740,1742,1747,1748,1757,1764,1765,1766,1768,1770,1775,1777,1778,1779,1780,1782,1791,1796,1798,1800,1802,1807,1808,1809,1812,1813,1814,1819,1824,1869,1877,1881,1905,1944,2011,2015,2022,2024,2026,2027,2029,2030,2032,2033,2034,2038,2043,2044,2052,2053,2054,2056,2058,2060,2061,2064,2065,2069,2072,2074,2080,2081,2082,2083,2085,2089,2097,2098,2099,2102,2103,2104,2106,2107,2108,2109,2110,2112,2113,2114,2115,2122,2123,2124,2128,2129,2131,2132,2133,2136,2139,2140,2146,2148,2151,2152,2153,2158,2160,2172,2177,2178,2180,2182,2196,2201,2204,2205,2207,2209,2210,2211,2215,2220,2223,2226,2227,2234,2235,2237,2240,2241,2242,2244,2245,2246,2248,2253,2258,2259,2262,2267,2268,2269,2281,2287,2289,2290,2291,2293,2295,2296,2298,2299,2300,2301,2302,2306,2307,2309,2310,2312,2313,2314,2318,2321,2322,2323,2324,2329,2332,2337,2339,2341,2343,2344,2348,2350,2355,2356,2357,2360,2361,2362,2364,2365,2369,2370,2371,2377,2378,2379,2383,2386,2388,2389,2391,2404,2409,2413,2414,2415,2420,2421,2422,2423,2425,3331,3354,3381,3389\n"
     ]
    }
   ],
   "source": [
    "my_string = ','.join(map(str, receiver_telen))\n",
    "print(my_string)"
   ]
  },
  {
   "cell_type": "code",
   "execution_count": 3,
   "metadata": {},
   "outputs": [],
   "source": [
    "#f2\n",
    "#thalamus_idxs = [1751,1906,1911,1914,1944,1945,1946,1947,1948,1949,1950,1951,1953,1954,1956,1959,1968,1978,2024,2032,2034,2038,2039,2041,2046,2056,2064,2067,2069,2070,2079,2084,2085,2125,2187,2188,2191,2196,2200,2201,2205,2208,2214,2215,2246,2252,2257,2300,2303,2419,3943,3984,4063,4064,4066,4072,4074,4075,4077,4079,4081,4084,4090,4092,4096,4098,4099,4100,4101,4104,4106,4107,4108,4109,4110,4111,4112,4113,4115,4116,4117,4118,4119,4125,4126,4127,4131,4132,4133,4134,4141,4144,4148,4149,4156,4159,4162,4164,4165,4172,4178,4180,4181,4183,4184,4185,4187]\n",
    "#tectum_idxs   = [221,234,237,241,246,251,263,264,267,269,274,275,276,283,289,293,300,302,307,318,319,324,325,332,334,335,336,337,339,359,360,364,368,394,395,420,421,422,424,428,437,439,443,448,459,461,465,467,477,480,482,491,494,497,500,504,505,507,508,509,512,513,518,519,523,1143,1163,1191,1223,1229,1232,1263,1266,1272,1309,2317,2375,2391,2392,2888,2890,2893,2926,2938,2944,2960,2961,2975,2976,2982,2992,3035,3037,3040,3056,3059,3062,3082,3086,3088,3095,3104,3108,3116,3126,3128,3171,3183,3184,3190,3200,3203,3204,3210,3212,3218,3225,3226,3239,3243,3245,3348,3355,3359,3378,3387,3391,3393,3401,3407,3411,3420,3423,3428,3429,3434,3436,3437,3438,3461,3481,3491,3518,3520,3533,3537,3556,3563,3584,3588,3589,3595,3604,3605,3627,3629,3630,3634,3637,3639,3665,3666,3680,3681,3690,3691,3707,3718,3725,3743,3748,3751,3755,3758,3777,3779,3949,3968,3971,3979]\n",
    "#telen_idxs    = [547,557,563,1353,1364,1387,1391,1437,1438,1448,1504,1517,1518,1525,1528,1531,1533,1538,1550,1552,1554,1559,1561,1562,1563,1569,1574,1588,1590,1592,1594,1605,1606,1609,1614,1637,1649,1650,1654,1664,1683,1684,1685,1687,1688,1710,1717,1718,1720,1731,1740,1742,1744,1745,1756,1760,1768,1769,1770,1795,1798,1800,1819,1821,1828,1831,2030,2089,2091,2093,2094,2095,2096,2098,2106,2107,2109,2113,2114,2115,2116,2118,2120,2123,2126,2131,2132,2134,2135,2138,2139,2140,2141,2142,2143,2145,2161,2175,2177,2178,2184,2218,2225,2227,2230,2232,2234,2236,2239,2240,2247,2255,2256,2259,2260,2264,2265,2266,2269,2270,2272,2281,2284,2340,2346,2371,2412,2521,2523,2526,2530,2536,2538,2543,2546,2559,2588,2593,2596,2603,2617,2621,2623,2624,2626,2631,2636,2637,2639,2642,2643,2650,2658,2682,2683,2686,2713,2715,2718,2725,2766,2767,2770,2777,2827,2843,2849,2861,2862,2869,2877,4093,4151,4155]\n",
    "\n",
    "#f3 90 percentile\n",
    "#thalamus_idxs =[1196,1211,1218,1220,1223,1236,1241,1299,1311,1318,1338,1339,1344,1345,1350,1570,1575,1581,1623,1647,1662,1701,1741,1745,1746,1750,1754,1755,1789,1815,1820,2255,2325,2366,3311,3315,3326,3329,3330,3351,3352,3353,3361,3363,3364,3365,3371,3373,3376,3378,3382,3386,3387,3396]\n",
    "#tectum_idxs = [264,286,289,978,999,1824,1828,2441,2448,2454,2461,2462,2463,2465,2466,2470,2474,2477,2480,2483,2488,2489,2496,2497,2501,2504,2506,2508,2509,2517,2532,2538,2539,2557,2561,2595,2597,2598,2601,2602,2646,2788,2790,2793,2796,2802,2805,2807,2810,2811,2814,2817,2819,2820,2827,2828,2829,2831,2833,2840,2843,2846,2847,2851,2854,2856,2867,2877,2880,2929,3002,3046,3050,3055,3056,3062,3066,3093,3097,3101,3106,3113,3117,3120,3121,3133,3146,3272,3487,3489,3503,3504,3513]\n",
    "#telen_idxs = [323,1012,1013,1014,1015,1016,1017,1021,1027,1031,1040,1043,1060,1061,1064,1070,1072,1074,1076,1078,1080,1082,1115,1204,1210,1217,1244,1256,1268,1278,1312,1317,1322,1366,1373,1382,1392,1406,1532,1582,1663,1668,1669,1684,1690,1691,1692,1697,1699,1704,1706,1708,1711,1713,1723,1732,1733,1734,1742,1765,1766,1778,1780,1791,1798,1802,1813,1814,2011,2024,2026,2027,2030,2032,2034,2038,2043,2044,2052,2053,2065,2072,2080,2085,2097,2099,2102,2103,2106,2107,2108,2109,2112,2113,2114,2122,2123,2126,2128,2129,2131,2132,2136,2137,2139,2140,2172,2177,2180,2205,2207,2210,2211,2227,2234,2241,2242,2244,2245,2246,2253,2258,2268,2287,2289,2290,2293,2296,2298,2299,2300,2301,2306,2307,2309,2310,2314,2318,2321,2322,2323,2324,2332,2339,2341,2343,2344,2348,2350,2355,2356,2360,2362,2365,2369,2409,2413,2414,2421,2422,2425]\n",
    "\n",
    "#f3 80 percentile\n",
    "#thalamus_idxs  = [328,1175,1177,1196,1209,1211,1218,1220,1222,1223,1228,1236,1241,1262,1267,1269,1270,1281,1286,1288,1296,1299,1302,1311,1314,1318,1334,1338,1344,1345,1349,1350,1351,1354,1356,1357,1363,1383,1384,1385,1390,1398,1537,1570,1571,1575,1578,1581,1623,1647,1658,1660,1662,1665,1674,1675,1677,1688,1695,1701,1702,1709,1731,1738,1741,1745,1746,1750,1751,1754,1755,1756,1760,1767,1787,1789,1795,1804,1815,1816,1820,1823,1844,1854,1951,2014,2016,2021,2036,2039,2050,2063,2120,2165,2233,2252,2255,2266,2276,2330,2366,2381,2402,2429,2799,2882,2908,2915,2916,2951,2952,3311,3315,3325,3329,3333,3335,3337,3343,3344,3347,3351,3352,3353,3363,3364,3366,3371,3376,3378,3379,3382,3386,3387,3388,3390,3396]\n",
    "#tectum_idxs    = [214,242,248,252,253,257,264,285,286,287,289,940,960,978,979,988,999,1826,1828,1863,2441,2444,2445,2448,2452,2454,2455,2457,2460,2461,2462,2463,2465,2466,2468,2469,2470,2473,2474,2477,2478,2480,2481,2483,2488,2489,2492,2496,2497,2499,2501,2504,2505,2506,2508,2509,2514,2517,2528,2531,2532,2538,2539,2557,2561,2588,2595,2597,2598,2601,2602,2603,2620,2628,2646,2780,2782,2788,2790,2792,2793,2796,2802,2803,2804,2805,2810,2811,2814,2816,2817,2819,2820,2821,2827,2828,2829,2831,2833,2840,2843,2845,2846,2847,2851,2854,2856,2859,2867,2873,2877,2880,2881,2929,2930,2999,3002,3043,3046,3050,3055,3056,3058,3062,3063,3064,3066,3076,3079,3087,3088,3089,3090,3093,3101,3105,3106,3109,3113,3117,3120,3121,3122,3126,3134,3137,3139,3146,3235,3253,3265,3272,3274,3307,3397,3487,3488,3489,3494,3496,3500,3503,3504,3513,3514,3521,3528,3537,3548,3555]\n",
    "#telen_idxs     = [323,1012,1013,1014,1016,1017,1018,1021,1024,1031,1033,1040,1043,1053,1058,1059,1060,1064,1070,1071,1072,1073,1074,1076,1078,1080,1100,1106,1115,1116,1117,1120,1192,1193,1195,1204,1205,1207,1210,1217,1243,1244,1256,1257,1268,1271,1275,1278,1280,1287,1312,1317,1322,1324,1327,1366,1373,1382,1392,1394,1395,1405,1406,1479,1485,1527,1532,1535,1580,1582,1584,1589,1646,1663,1667,1668,1669,1671,1672,1678,1680,1681,1682,1684,1689,1690,1691,1692,1696,1697,1699,1704,1706,1707,1708,1710,1711,1713,1718,1720,1722,1723,1725,1728,1732,1733,1734,1739,1740,1742,1747,1748,1757,1764,1765,1766,1768,1770,1775,1777,1778,1779,1780,1782,1791,1796,1798,1800,1802,1807,1808,1809,1812,1813,1814,1819,1824,1869,1877,1881,1905,1944,2011,2015,2022,2024,2026,2027,2029,2030,2032,2033,2034,2038,2043,2044,2052,2053,2054,2056,2058,2060,2061,2064,2065,2069,2072,2074,2080,2081,2082,2083,2085,2089,2097,2098,2099,2102,2103,2104,2106,2107,2108,2109,2110,2112,2113,2114,2115,2122,2123,2124,2128,2129,2131,2132,2133,2136,2139,2140,2146,2148,2151,2152,2153,2158,2160,2172,2177,2178,2180,2182,2196,2201,2204,2205,2207,2209,2210,2211,2215,2220,2223,2226,2227,2234,2235,2237,2240,2241,2242,2244,2245,2246,2248,2253,2258,2259,2262,2267,2268,2269,2281,2287,2289,2290,2291,2293,2295,2296,2298,2299,2300,2301,2302,2306,2307,2309,2310,2312,2313,2314,2318,2321,2322,2323,2324,2329,2332,2337,2339,2341,2343,2344,2348,2350,2355,2356,2357,2360,2361,2362,2364,2365,2369,2370,2371,2377,2378,2379,2383,2386,2388,2389,2391,2404,2409,2413,2414,2415,2420,2421,2422,2423,2425,3331,3354,3381,3389]\n",
    "\n",
    "#f5\n",
    "thalamus_idxs = [2001,2033,2036,2080,2081,2082,2090,2100,2102,2105,2106,2107,2113,2124,2126,2127,2131,2132,2133,2136,2138,2139,2149,2179,2183,2185,2186,2187,2188,2192,2193,2195,2196,2197,2198,2202,2203,2204,2207,2209,2211,2212,2213,2214,2215,2216,2219,2221,2223,2232,2233,2234,2237,2238,2239,2244,2451,2454,2459,2471,2472,2499,2512,2710,4367,4373,4374,4388,4393,4396,4397,4402,4403,4406,4408,4411,4413,4414,4415,4417,4421,4422,4423,4447,4449,4456,4463,4471,4474,4477,4479,4488,4489,4491,4492,4493,4504,4507,4508]\n",
    "tectum_idxs   = [96,189,190,196,230,232,233,235,246,258,260,265,274,298,343,366,370,380,381,382,398,404,416,419,420,421,423,427,439,658,662,664,840,844,845,851,900,1065,1070,1078,1099,1111,1115,1120,1189,1196,1204,1227,1229,1232,1234,1238,1239,1242,1258,1259,1270,1935,1978,2245,2247,2250,2251,2326,2333,2337,2339,2340,2372,2374,2384,2428,2443,2977,2986,3016,3017,3019,3020,3021,3024,3033,3039,3041,3043,3044,3045,3051,3052,3053,3055,3067,3068,3069,3077,3081,3082,3099,3101,3102,3106,3111,3113,3114,3123,3136,3139,3146,3147,3152,3155,3162,3168,3170,3171,3172,3173,3175,3176,3177,3181,3187,3188,3192,3196,3197,3199,3201,3206,3216,3225,3226,3229,3231,3232,3235,3240,3245,3250,3251,3253,3254,3255,3261,3262,3270,3273,3280,3281,3290,3295,3299,3301,3302,3305,3311,3320,3324,3325,3326,3332,3349,3353,3354,3365,3368,3370,3378,3393,3396,3402,3437,3438,3439,3440,3452,3487,3568,3609,3612,3613,3645,3650,3658,3660,3661,3663,3667,3668,3669,3670,3681,3686,3690,3693,3694,3697,3700,3702,3704,3708,3713,3718,3728,3729,3736,3737,3743,3748,3749,3751,3755,3759,3763,3765,3768,3769,3771,3777,3781,3783,3786,3787,3792,3797,3801,3803,3805,3807,3812,3816,3818,3833,3842,3845,3849,3851,3852,3854,3856,3859,3860,3864,3865,3882,3887,3891,3902,3903,3904,3907,3908,3928,3932,3935,3944,3945,3949,3951,3969,3970,3974,3997,4001,4003,4008,4011,4019,4022,4029,4035,4037,4039,4048,4049,4059,4060,4064,4075,4076,4090,4092,4093,4170,4172,4221,4271,4429,4576,4587,4612,4614,4629,4655,4658,4676,4698,4730,4745,4770]\n",
    "telen_idxs    = [511,523,1439,1440,1443,1445,1475,1482,1487,1491,1492,1493,1496,1497,1500,1505,1507,1510,1514,1515,1520,1523,1538,1544,1551,1554,1555,1558,1565,1567,1573,1578,1580,1590,1608,1619,1623,1626,1631,1650,1652,1658,1664,1679,1684,1686,1694,1701,1702,1706,1710,1715,1719,1721,1722,1735,1746,1754,1755,1756,1758,1759,1760,1763,1771,1785,1786,1789,1791,1794,1800,1802,1806,1808,1831,1835,1842,1846,1850,1852,1862,1864,1867,1870,1882,1886,1890,1899,1900,1908,2006,2007,2043,2056,2069,2072,2073,2074,2076,2104,2141,2142,2153,2165,2166,2171,2172,2173,2174,2363,2388,2390,2402,2518,2523,2529,2531,2532,2537,2538,2540,2543,2544,2550,2566,2568,2580,2586,2593,2596,2601,2609,2615,2616,2620,2622,2624,2632,2639,2642,2644,2645,2646,2648,2651,2663,2666,2667,2671,2675,2680,2681,2688,2726,2730,2748,2755,2760,2764,2767,2778,2786,2800,2804,2826,2831,2832,2835,2851,2854,2860,2866,2867,2869,2875,2879,2882,2889,2891,2924,4364,4370,4428,4497] \n",
    "\n",
    "telen = telen_idxs\n",
    "tectum = tectum_idxs\n",
    "thalamus = thalamus_idxs"
   ]
  },
  {
   "cell_type": "code",
   "execution_count": 20,
   "metadata": {},
   "outputs": [],
   "source": [
    "# how much of A is project to B?\n",
    "\n",
    "def AprojB(triplets, idxsA, idxsB, retA=False):\n",
    "    unique_targets = set()\n",
    "    unique_origins = set()\n",
    "    found_triplets = set()\n",
    "    times_encountered = 0\n",
    "    for (x,y,z) in triplets:\n",
    "        if x not in idxsA: continue\n",
    "        if y in idxsB and z in idxsB:\n",
    "            unique_targets.add(y)\n",
    "            unique_targets.add(z)\n",
    "            unique_origins.add(x)\n",
    "            if not ((x,y,z) in found_triplets or (x,z,y) in found_triplets):\n",
    "                found_triplets.add((x,y,z))\n",
    "                times_encountered += 1\n",
    "    print(times_encountered)\n",
    "    if not retA:\n",
    "        return list(unique_targets)\n",
    "    else:\n",
    "        return list(unique_origins), list(unique_targets)\n",
    "   \n",
    "\n",
    "def plot_projections(coords, idxs):\n",
    "    fig = plt.figure(figsize=(12,6))\n",
    "    ax = fig.add_subplot(projection='3d')\n",
    "    ax.scatter(*coords[idxs,:].T, color='r')\n",
    "    ax.scatter(*cerebellum_spatial_coords.T, color='c')\n",
    "    #ax.scatter(*tectum_spatial_coords.T, color='gray')\n",
    "    ax.view_init(90,0)\n",
    "    plt.show()\n",
    "    \n",
    "    \n"
   ]
  },
  {
   "cell_type": "code",
   "execution_count": 38,
   "metadata": {},
   "outputs": [
    {
     "name": "stdout",
     "output_type": "stream",
     "text": [
      "2387\n",
      "1805\n",
      "235 232\n",
      "2329\n",
      "2676\n",
      "273 268\n"
     ]
    }
   ],
   "source": [
    "# Thalamus 2\n",
    "\n",
    "thalamus2tectum_baseline_targets = AprojB(baseline_sender_triplets, top_hubs, telen)\n",
    "thalamus2tectum_presz_targets    = AprojB(presz_sender_triplets, top_hubs, telen)\n",
    "print(len(thalamus2tectum_baseline_targets), len(thalamus2tectum_presz_targets))\n",
    "\n",
    "thalamus2telen_baseline_targets = AprojB(baseline_sender_triplets, top_hubs, tectum)\n",
    "thalamus2telen_presz_targets    = AprojB(presz_sender_triplets, top_hubs, tectum)\n",
    "print(len(thalamus2telen_baseline_targets), len(thalamus2telen_presz_targets))\n",
    "\n",
    "# thalamus2preoptic_baseline_targets = AprojB(baseline_sender_triplets, sender_thalamus, sender_preoptic)\n",
    "# thalamus2preoptic_presz_targets    = AprojB(presz_sender_triplets, sender_thalamus, sender_preoptic)"
   ]
  },
  {
   "cell_type": "code",
   "execution_count": 43,
   "metadata": {},
   "outputs": [],
   "source": [
    "plot_projections(baseline_data['spatial'], thalamus2tectum_baseline_targets)\n",
    "plot_projections(baseline_data['spatial'], thalamus2tectum_presz_targets)"
   ]
  },
  {
   "cell_type": "code",
   "execution_count": 64,
   "metadata": {},
   "outputs": [],
   "source": [
    "plot_projections(baseline_data['spatial'], thalamus2telen_baseline_targets )\n",
    "plot_projections(baseline_data['spatial'], thalamus2telen_presz_targets )"
   ]
  },
  {
   "cell_type": "code",
   "execution_count": 70,
   "metadata": {},
   "outputs": [],
   "source": [
    "plot_projections(baseline_data['spatial'], thalamus2preoptic_baseline_targets )\n",
    "plot_projections(baseline_data['spatial'], thalamus2preoptcc_presz_targets )"
   ]
  },
  {
   "cell_type": "code",
   "execution_count": 80,
   "metadata": {},
   "outputs": [
    {
     "name": "stdout",
     "output_type": "stream",
     "text": [
      "88\n",
      "255\n",
      "88 255\n",
      "107\n",
      "181\n",
      "107 181\n",
      "24\n",
      "8\n",
      "24 8\n"
     ]
    }
   ],
   "source": [
    "# Preoptic 2\n",
    "\n",
    "preoptic2tectum_baseline_targets = AprojB(baseline_sender_triplets, sender_preoptic, receiver_tectum)\n",
    "preoptic2tectum_presz_targets    = AprojB(presz_sender_triplets, sender_preoptic, receiver_tectum)\n",
    "print(len(preoptic2tectum_baseline_targets), len(preoptic2tectum_presz_targets))\n",
    "\n",
    "preoptic2telen_baseline_targets = AprojB(baseline_sender_triplets, sender_preoptic, receiver_telen)\n",
    "preoptic2telen_presz_targets    = AprojB(presz_sender_triplets, sender_preoptic, receiver_telen)\n",
    "print(len(preoptic2telen_baseline_targets), len(preoptic2telen_presz_targets))\n",
    "\n",
    "# preoptic2thalamus_baseline_targets = AprojB(baseline_sender_triplets, sender_preoptic, sender_thalamus)\n",
    "# preoptic2thalamus_presz_targets    = AprojB(presz_sender_triplets, sender_preoptic, sender_thalamus)\n",
    "# print(len(preoptic2thalamus_baseline_targets), len(preoptic2thalamus_presz_targets))\n",
    "\n"
   ]
  },
  {
   "cell_type": "code",
   "execution_count": 149,
   "metadata": {},
   "outputs": [
    {
     "ename": "IndexError",
     "evalue": "index 4612 is out of bounds for axis 0 with size 4589",
     "output_type": "error",
     "traceback": [
      "\u001b[0;31m---------------------------------------------------------------------------\u001b[0m",
      "\u001b[0;31mIndexError\u001b[0m                                Traceback (most recent call last)",
      "\u001b[0;32m<ipython-input-149-89af5686d535>\u001b[0m in \u001b[0;36m<module>\u001b[0;34m\u001b[0m\n\u001b[0;32m----> 1\u001b[0;31m \u001b[0mplot_projections\u001b[0m\u001b[0;34m(\u001b[0m\u001b[0mbaseline_data\u001b[0m\u001b[0;34m[\u001b[0m\u001b[0;34m'spatial'\u001b[0m\u001b[0;34m]\u001b[0m\u001b[0;34m,\u001b[0m \u001b[0mpreoptic2tectum_baseline_targets\u001b[0m\u001b[0;34m)\u001b[0m\u001b[0;34m\u001b[0m\u001b[0;34m\u001b[0m\u001b[0m\n\u001b[0m\u001b[1;32m      2\u001b[0m \u001b[0mplot_projections\u001b[0m\u001b[0;34m(\u001b[0m\u001b[0mbaseline_data\u001b[0m\u001b[0;34m[\u001b[0m\u001b[0;34m'spatial'\u001b[0m\u001b[0;34m]\u001b[0m\u001b[0;34m,\u001b[0m \u001b[0mpreoptic2tectum_presz_targets\u001b[0m\u001b[0;34m)\u001b[0m\u001b[0;34m\u001b[0m\u001b[0;34m\u001b[0m\u001b[0m\n",
      "\u001b[0;32m<ipython-input-134-117dcbe6017d>\u001b[0m in \u001b[0;36mplot_projections\u001b[0;34m(coords, idxs)\u001b[0m\n\u001b[1;32m     23\u001b[0m     \u001b[0mfig\u001b[0m \u001b[0;34m=\u001b[0m \u001b[0mplt\u001b[0m\u001b[0;34m.\u001b[0m\u001b[0mfigure\u001b[0m\u001b[0;34m(\u001b[0m\u001b[0mfigsize\u001b[0m\u001b[0;34m=\u001b[0m\u001b[0;34m(\u001b[0m\u001b[0;36m12\u001b[0m\u001b[0;34m,\u001b[0m\u001b[0;36m6\u001b[0m\u001b[0;34m)\u001b[0m\u001b[0;34m)\u001b[0m\u001b[0;34m\u001b[0m\u001b[0;34m\u001b[0m\u001b[0m\n\u001b[1;32m     24\u001b[0m     \u001b[0max\u001b[0m \u001b[0;34m=\u001b[0m \u001b[0mfig\u001b[0m\u001b[0;34m.\u001b[0m\u001b[0madd_subplot\u001b[0m\u001b[0;34m(\u001b[0m\u001b[0mprojection\u001b[0m\u001b[0;34m=\u001b[0m\u001b[0;34m'3d'\u001b[0m\u001b[0;34m)\u001b[0m\u001b[0;34m\u001b[0m\u001b[0;34m\u001b[0m\u001b[0m\n\u001b[0;32m---> 25\u001b[0;31m     \u001b[0max\u001b[0m\u001b[0;34m.\u001b[0m\u001b[0mscatter\u001b[0m\u001b[0;34m(\u001b[0m\u001b[0;34m*\u001b[0m\u001b[0mcoords\u001b[0m\u001b[0;34m[\u001b[0m\u001b[0midxs\u001b[0m\u001b[0;34m,\u001b[0m\u001b[0;34m:\u001b[0m\u001b[0;34m]\u001b[0m\u001b[0;34m.\u001b[0m\u001b[0mT\u001b[0m\u001b[0;34m,\u001b[0m \u001b[0mcolor\u001b[0m\u001b[0;34m=\u001b[0m\u001b[0;34m'r'\u001b[0m\u001b[0;34m)\u001b[0m\u001b[0;34m\u001b[0m\u001b[0;34m\u001b[0m\u001b[0m\n\u001b[0m\u001b[1;32m     26\u001b[0m     \u001b[0max\u001b[0m\u001b[0;34m.\u001b[0m\u001b[0mscatter\u001b[0m\u001b[0;34m(\u001b[0m\u001b[0;34m*\u001b[0m\u001b[0mcerebellum_spatial_coords\u001b[0m\u001b[0;34m.\u001b[0m\u001b[0mT\u001b[0m\u001b[0;34m,\u001b[0m \u001b[0mcolor\u001b[0m\u001b[0;34m=\u001b[0m\u001b[0;34m'c'\u001b[0m\u001b[0;34m)\u001b[0m\u001b[0;34m\u001b[0m\u001b[0;34m\u001b[0m\u001b[0m\n\u001b[1;32m     27\u001b[0m     \u001b[0max\u001b[0m\u001b[0;34m.\u001b[0m\u001b[0mscatter\u001b[0m\u001b[0;34m(\u001b[0m\u001b[0;34m*\u001b[0m\u001b[0mtectum_spatial_coords\u001b[0m\u001b[0;34m.\u001b[0m\u001b[0mT\u001b[0m\u001b[0;34m,\u001b[0m \u001b[0mcolor\u001b[0m\u001b[0;34m=\u001b[0m\u001b[0;34m'gray'\u001b[0m\u001b[0;34m)\u001b[0m\u001b[0;34m\u001b[0m\u001b[0;34m\u001b[0m\u001b[0m\n",
      "\u001b[0;31mIndexError\u001b[0m: index 4612 is out of bounds for axis 0 with size 4589"
     ]
    }
   ],
   "source": [
    "plot_projections(baseline_data['spatial'], preoptic2tectum_baseline_targets)\n",
    "plot_projections(baseline_data['spatial'], preoptic2tectum_presz_targets)"
   ]
  },
  {
   "cell_type": "code",
   "execution_count": 76,
   "metadata": {},
   "outputs": [],
   "source": [
    "plot_projections(baseline_data['spatial'], preoptic2telen_baseline_targets)\n",
    "plot_projections(baseline_data['spatial'], preoptic2telen_presz_targets)"
   ]
  },
  {
   "cell_type": "code",
   "execution_count": 77,
   "metadata": {},
   "outputs": [],
   "source": [
    "plot_projections(baseline_data['spatial'], preoptic2thalamus_baseline_targets)\n",
    "plot_projections(baseline_data['spatial'], preoptic2thalamus_presz_targets)"
   ]
  },
  {
   "cell_type": "code",
   "execution_count": 129,
   "metadata": {},
   "outputs": [
    {
     "name": "stdout",
     "output_type": "stream",
     "text": [
      "110\n",
      "94\n",
      "43 39\n"
     ]
    }
   ],
   "source": [
    "# telen 2\n",
    "telen2tectum_baseline_targets = AprojB(baseline_sender_triplets, receiver_telen, receiver_tectum)\n",
    "telen2tectum_presz_targets    = AprojB(presz_sender_triplets, receiver_telen, receiver_tectum)\n",
    "print(len(telen2tectum_baseline_targets), len(telen2tectum_presz_targets))"
   ]
  },
  {
   "cell_type": "code",
   "execution_count": 91,
   "metadata": {},
   "outputs": [
    {
     "name": "stdout",
     "output_type": "stream",
     "text": [
      "370\n",
      "1976\n",
      "68 71\n"
     ]
    }
   ],
   "source": [
    "# telen from\n",
    "telenfromthalamus_baseline_inputs = AprojB(baseline_receiver_triplets, receiver_telen, sender_thalamus)\n",
    "telenfromthalamus_presz_inputs = AprojB(presz_receiver_triplets, receiver_telen, sender_thalamus)\n",
    "print(len(telenfromthalamus_baseline_inputs), len(telenfromthalamus_presz_inputs))\n",
    "\n",
    "\n",
    "telenfrompreoptic_baseline_inputs = AprojB(baseline_receiver_triplets, receiver_telen, sender_preoptic)\n",
    "telenfrompreoptic_presz_inputs    = AprojB(presz_receiver_triplets, receiver_telen, sender_preoptic)\n",
    "print(len(telenfrompreoptic_baseline_inputs), len(telenfrompreoptic_presz_inputs))\n",
    "\n",
    "\n"
   ]
  },
  {
   "cell_type": "code",
   "execution_count": 85,
   "metadata": {},
   "outputs": [],
   "source": [
    "plot_projections(baseline_data['spatial'], telenfromthalamus_baseline_inputs)\n",
    "plot_projections(baseline_data['spatial'], telenfromthalamus_presz_inputs)"
   ]
  },
  {
   "cell_type": "code",
   "execution_count": 92,
   "metadata": {},
   "outputs": [],
   "source": [
    "plot_projections(baseline_data['spatial'], telenfrompreoptic_baseline_inputs)\n",
    "plot_projections(baseline_data['spatial'], telenfrompreoptic_presz_inputs)"
   ]
  },
  {
   "cell_type": "code",
   "execution_count": 93,
   "metadata": {},
   "outputs": [
    {
     "name": "stdout",
     "output_type": "stream",
     "text": [
      "186\n",
      "1910\n",
      "52 70\n"
     ]
    }
   ],
   "source": [
    "# tectum from\n",
    "# tectumfromthalamus_baseline_inputs = AprojB(baseline_receiver_triplets, receiver_tectum, sender_thalamus)\n",
    "# tectumfromthalamus_presz_inputs = AprojB(presz_receiver_triplets, receiver_tectum, sender_thalamus)\n",
    "# print(len(tectumfromthalamus_baseline_inputs), len(tectumfromthalamus_presz_inputs))\n",
    "\n",
    "tectumfrompreoptic_baseline_inputs = AprojB(baseline_receiver_triplets, receiver_tectum, sender_preoptic)\n",
    "tectumfrompreoptic_presz_inputs = AprojB(presz_receiver_triplets, receiver_tectum, sender_preoptic)\n",
    "print(len(tectumfrompreoptic_baseline_inputs), len(tectumfrompreoptic_presz_inputs))"
   ]
  },
  {
   "cell_type": "code",
   "execution_count": null,
   "metadata": {},
   "outputs": [],
   "source": [
    "plot_projections(baseline_data['spatial'], tectumfromthalamus_baseline_inputs)\n",
    "plot_projections(baseline_data['spatial'], tectumfromthalamus_presz_inputs)"
   ]
  },
  {
   "cell_type": "code",
   "execution_count": null,
   "metadata": {},
   "outputs": [],
   "source": [
    "plot_projections(baseline_data['spatial'], tectumfrompreoptic_baseline_inputs)\n",
    "plot_projections(baseline_data['spatial'], tectumfrompreoptic_presz_inputs)"
   ]
  },
  {
   "cell_type": "code",
   "execution_count": 95,
   "metadata": {},
   "outputs": [
    {
     "name": "stdout",
     "output_type": "stream",
     "text": [
      "94\n",
      "26\n",
      "2 2\n"
     ]
    }
   ],
   "source": [
    "# thalamus from\n",
    "\n",
    "thalamusfrompreoptic_baseline_inputs = AprojB(baseline_receiver_triplets, sender_thalamus, sender_preoptic)\n",
    "thalamusfrompreoptic_presz_inputs = AprojB(presz_receiver_triplets, sender_thalamus, sender_preoptic)\n",
    "print(len(thalamusfrompreoptic_baseline_inputs), len(thalamusfrompreoptic_presz_inputs))"
   ]
  },
  {
   "cell_type": "code",
   "execution_count": 120,
   "metadata": {},
   "outputs": [
    {
     "data": {
      "image/png": "[encoded data removed]",
      "text/plain": [
       "<Figure size 432x288 with 1 Axes>"
      ]
     },
     "metadata": {
      "needs_background": "light"
     },
     "output_type": "display_data"
    },
    {
     "data": {
      "image/png": "[encoded data removed]",
      "text/plain": [
       "<Figure size 432x288 with 1 Axes>"
      ]
     },
     "metadata": {
      "needs_background": "light"
     },
     "output_type": "display_data"
    }
   ],
   "source": [
    "from graph_utils import get_outgoing_degrees\n",
    "from futils import get_ei\n",
    "\n",
    "def get_top_outgoing(J, percentile):\n",
    "    outgoing = get_outgoing_degrees(J, percentile)\n",
    "    outgoing_percentile = data2percentile(outgoing)\n",
    "    return np.where( outgoing_percentile > 0.90)[0]\n",
    "def get_top_incoming(J, percentile):\n",
    "    incoming = get_outgoing_degrees(J.T, percentile)\n",
    "    incoming_percentile = data2percentile(incoming)\n",
    "    return np.where( incoming_percentile > 0.90)[0]\n",
    "    \n",
    "\n",
    "control_outgoing_top = get_top_outgoing(Jbaseline, None)\n",
    "control_incoming_top = get_top_incoming(Jbaseline, None)\n",
    "\n",
    "sz_outgoing_top      = get_top_outgoing(Jpresz, None)\n",
    "sz_incoming_top      = get_top_incoming(Jpresz, None)\n",
    "\n",
    "\n",
    "control_otop_pre_ei  = np.asarray([get_ei(Jbaseline[:,idx]) for idx in control_outgoing_top])\n",
    "control_itop_post_ei = np.asarray([get_ei(Jbaseline[idx,:]) for idx in control_incoming_top])\n",
    "\n",
    "sz_otop_pre_ei  = np.asarray([get_ei(Jpresz[:,idx]) for idx in sz_outgoing_top])\n",
    "sz_itop_post_ei = np.asarray([get_ei(Jpresz[idx,:]) for idx in sz_incoming_top])\n",
    "\n",
    "control_otop_pre_exc = control_outgoing_top[np.where(control_otop_pre_ei > 0.0)[0]]\n",
    "control_itop_post_exc = control_incoming_top[np.where(control_itop_post_ei > 0.0)[0]]\n",
    "\n",
    "sz_otop_pre_exc      = sz_outgoing_top[np.where(sz_otop_pre_ei > 0.0)[0]]\n",
    "sz_itop_post_exc     = sz_incoming_top[np.where(sz_itop_post_ei > 0.0)[0]]\n",
    "\n",
    "\n",
    "plt.figure()\n",
    "plt.hist([control_otop_pre_ei, sz_otop_pre_ei], color=['k', 'r'], density=True)\n",
    "plt.show()\n",
    "\n",
    "plt.figure()\n",
    "plt.hist([control_itop_post_ei, sz_itop_post_ei], color=['k', 'r'], density=True)\n",
    "plt.show()\n"
   ]
  },
  {
   "cell_type": "code",
   "execution_count": 122,
   "metadata": {},
   "outputs": [
    {
     "name": "stdout",
     "output_type": "stream",
     "text": [
      "988\n",
      "1006\n"
     ]
    }
   ],
   "source": [
    "from graph_utils import run_higher_order_analysis, plot_higher_order\n",
    "#def run_higher_order_analysis(input_filepath, output_filepath, cwd, motif):\n",
    "#def generate_snap_unweighted_graph(A, directed=False, save=None):\n",
    "#def permute_weights(J, seed=0):\n",
    "\n",
    "def run_hoa(J, idxsA, idxsB, threshold, motif, state, shuffle=False, pos=True):\n",
    "    idxsA, idxsB = list(idxsA), list(idxsB)\n",
    "    idxs = idxsA + idxsB\n",
    "    cwd = os.getcwd()\n",
    "    if shuffle:\n",
    "        J = permute_weights(J, seed=shuffle)\n",
    "    graph_output_filepath = cwd+'/%s.txt' % state\n",
    "    Jth = jthreshold(J,threshold,above=True, pos=pos,binarized=True)\n",
    "    Jth_reduced = Jth[idxs,:][:,idxs]\n",
    "\n",
    "#     Jth_reduced[:len(idxsA)][:len(idxsA)] = 0\n",
    "#     Jth_reduced[len(idxsA):][len(idxsA):] = 0\n",
    "#     Jth_reduced[:len(idxsA)][len(idxsA):] = 0\n",
    "    \n",
    "    generate_snap_unweighted_graph(Jth_reduced.T,directed=True,save=graph_output_filepath)\n",
    "    hoa_output_filepath  = cwd + '/hoa-%s.txt' % state    \n",
    "    run_higher_order_analysis(graph_output_filepath, hoa_output_filepath, cwd, motif)\n",
    "    \n",
    "def run_hoa2(J, idxs, threshold, motif,state):\n",
    "    Jth = jthreshold(J,90.,above=True, pos=pos,binarized=True)\n",
    "    Jth_reduced = Jth[idxs,:][:,idxs]\n",
    "    \n",
    "    cwd = os.getcwd()\n",
    "    graph_output_filepath = cwd+'/%s.txt' % state\n",
    "\n",
    "    generate_snap_unweighted_graph(Jth_reduced.T,directed=True,save=graph_output_filepath)\n",
    "    hoa_output_filepath  = cwd + '/hoa-%s.txt' % state    \n",
    "    run_higher_order_analysis(graph_output_filepath, hoa_output_filepath, cwd, motif)\n",
    "\n",
    "  \n",
    "#sender_thalamus sender_anti\n",
    "motif = 'm5'\n",
    "pos   = True\n",
    "run_hoa(Jbaseline, control_otop_pre_exc, control_itop_post_exc, 90, motif, 'baseline', shuffle=0, pos=pos)\n",
    "run_hoa(Jpresz, sz_otop_pre_exc, sz_itop_post_exc, 90, motif, 'presz', shuffle=0, pos=pos)\n",
    "\n",
    "print(len(control_otop_pre_ei) + len(control_itop_post_ei))\n",
    "print(len(sz_otop_pre_ei) + len(sz_itop_post_ei))\n",
    "\n",
    "# run_hoa(Jbaseline, control_outgoing_top, control_incoming_top, 90, motif, 'baseline', shuffle=0, pos=pos)\n",
    "# run_hoa(Jpresz, sz_outgoing_top, sz_incoming_top, 90, motif, 'presz', shuffle=0, pos=pos)\n",
    "\n",
    "# print(len(control_outgoing_top) + len(control_incoming_top))\n",
    "# print(len(sz_outgoing_top) + len(sz_incoming_top))\n",
    "\n"
   ]
  },
  {
   "cell_type": "code",
   "execution_count": 94,
   "metadata": {},
   "outputs": [],
   "source": [
    "def run_hoa3(J, threshold, motif, state, pos=True):\n",
    "    from graph_utils import generate_snap_unweighted_graph, run_higher_order_analysis\n",
    "    cwd = os.getcwd()\n",
    "    graph_output_filepath = cwd+'/%s.txt' % state\n",
    "    Jth = jthreshold(J,threshold,above=True, pos=pos,binarized=True)\n",
    "    \n",
    "    generate_snap_unweighted_graph(Jth.T,directed=True,save=graph_output_filepath)\n",
    "    hoa_output_filepath  = cwd + '/hoa-%s.txt' % state    \n",
    "    run_higher_order_analysis(graph_output_filepath, hoa_output_filepath, cwd, motif)\n",
    "\n",
    "# ca1 m1 is pretty big deal\n",
    "motif='bifan'   \n",
    "pos=True\n",
    "\n",
    "run_hoa3(Jbaseline, 90., motif, 'baseline', pos=pos)\n",
    "run_hoa3(Jpresz, 90., motif, 'presz', pos=pos)\n"
   ]
  },
  {
   "cell_type": "code",
   "execution_count": 40,
   "metadata": {},
   "outputs": [
    {
     "name": "stdout",
     "output_type": "stream",
     "text": [
      "583\n"
     ]
    },
    {
     "ename": "NameError",
     "evalue": "name 'sender_thalamus' is not defined",
     "output_type": "error",
     "traceback": [
      "\u001b[0;31m---------------------------------------------------------------------------\u001b[0m",
      "\u001b[0;31mNameError\u001b[0m                                 Traceback (most recent call last)",
      "\u001b[0;32m<ipython-input-40-3915142ba8e4>\u001b[0m in \u001b[0;36m<module>\u001b[0;34m\u001b[0m\n\u001b[1;32m      1\u001b[0m \u001b[0mprint\u001b[0m\u001b[0;34m(\u001b[0m\u001b[0mlen\u001b[0m\u001b[0;34m(\u001b[0m\u001b[0mthalamus\u001b[0m\u001b[0;34m)\u001b[0m \u001b[0;34m+\u001b[0m \u001b[0mlen\u001b[0m\u001b[0;34m(\u001b[0m\u001b[0mtelen\u001b[0m\u001b[0;34m)\u001b[0m \u001b[0;34m+\u001b[0m \u001b[0mlen\u001b[0m\u001b[0;34m(\u001b[0m\u001b[0mtectum\u001b[0m\u001b[0;34m)\u001b[0m\u001b[0;34m)\u001b[0m\u001b[0;34m\u001b[0m\u001b[0;34m\u001b[0m\u001b[0m\n\u001b[0;32m----> 2\u001b[0;31m \u001b[0mprint\u001b[0m\u001b[0;34m(\u001b[0m\u001b[0mlen\u001b[0m\u001b[0;34m(\u001b[0m\u001b[0msender_thalamus\u001b[0m\u001b[0;34m)\u001b[0m \u001b[0;34m+\u001b[0m \u001b[0mlen\u001b[0m\u001b[0;34m(\u001b[0m\u001b[0mreceiver_telen\u001b[0m\u001b[0;34m)\u001b[0m \u001b[0;34m+\u001b[0m \u001b[0mlen\u001b[0m\u001b[0;34m(\u001b[0m\u001b[0mreceiver_tectum\u001b[0m\u001b[0;34m)\u001b[0m\u001b[0;34m)\u001b[0m\u001b[0;34m\u001b[0m\u001b[0;34m\u001b[0m\u001b[0m\n\u001b[0m",
      "\u001b[0;31mNameError\u001b[0m: name 'sender_thalamus' is not defined"
     ]
    }
   ],
   "source": [
    "print(len(thalamus) + len(telen) + len(tectum))\n",
    "print(len(sender_thalamus) + len(receiver_telen) + len(receiver_tectum))\n"
   ]
  },
  {
   "cell_type": "code",
   "execution_count": 16,
   "metadata": {
    "scrolled": false
   },
   "outputs": [
    {
     "name": "stdout",
     "output_type": "stream",
     "text": [
      "modularity: 0.140\n"
     ]
    },
    {
     "name": "stderr",
     "output_type": "stream",
     "text": [
      "/mnt/d/anaconda3/lib/python3.7/site-packages/networkx/drawing/nx_pylab.py:579: MatplotlibDeprecationWarning: \n",
      "The iterable function was deprecated in Matplotlib 3.1 and will be removed in 3.3. Use np.iterable instead.\n",
      "  if not cb.iterable(width):\n",
      "/mnt/d/anaconda3/lib/python3.7/site-packages/networkx/drawing/nx_pylab.py:676: MatplotlibDeprecationWarning: \n",
      "The iterable function was deprecated in Matplotlib 3.1 and will be removed in 3.3. Use np.iterable instead.\n",
      "  if cb.iterable(node_size):  # many node sizes\n",
      "/mnt/d/anaconda3/lib/python3.7/site-packages/ipykernel_launcher.py:33: MatplotlibDeprecationWarning: Passing the block parameter of show() positionally is deprecated since Matplotlib 3.1; the parameter will become keyword-only in 3.3.\n"
     ]
    },
    {
     "name": "stdout",
     "output_type": "stream",
     "text": [
      "modularity: -0.026\n"
     ]
    }
   ],
   "source": [
    "def plot_graph(J, idxs, member_szs, alpha=0.4):\n",
    "    import networkx as nx\n",
    "    from graph_utils import generate_nx_graph, leiden_clustering\n",
    "    \n",
    "    Jth = jthreshold(J,90.,above=True, pos=True, binarized=True)\n",
    "    Jth_reduced = Jth[idxs,:][:,idxs]\n",
    "    Jth_reduced = Jth_reduced.T\n",
    "    G = generate_nx_graph(Jth_reduced, directed=True)\n",
    "    partition = []\n",
    "    i = 0\n",
    "    for sz in member_szs:\n",
    "        partition.extend([i for _ in range(sz)])\n",
    "        i += 1\n",
    "    _, mod = leiden_clustering(Jth_reduced, directed=True, part=partition)\n",
    "    print('modularity: %0.3f' % mod)\n",
    "    \n",
    "    pos = {}\n",
    "    for (i, p) in enumerate(partition):\n",
    "        center = None\n",
    "        if p == 0:\n",
    "            center = [0,0]\n",
    "        elif p == 1:\n",
    "            center = [-1,0]\n",
    "        elif p == 2:\n",
    "            center = [1,0]\n",
    "            \n",
    "        shift = np.random.uniform(-0.25, 0.25, size=(2,))\n",
    "        pos[i] = center + shift\n",
    "    plt.figure(figsize=(8, 8))  # image is 8 x 8 inches\n",
    "    plt.axis('off')\n",
    "    nx.draw_networkx_nodes(G, pos, node_size=25, cmap=plt.cm.brg, node_color=partition)\n",
    "    nx.draw_networkx_edges(G, pos, alpha=alpha)\n",
    "    plt.show(G)\n",
    "    \n",
    "def plot_graph2(J, idxs, input_filepath):\n",
    "    \n",
    "    \n",
    "    nids1, nids2 = [], []\n",
    "    f = open(input_filepath, 'r')\n",
    "    line = f.readline().strip('\\n').split('\\t')\n",
    "    for l in line: nids1.append(int(l))\n",
    "    line = f.readline().strip('\\n').split('\\t')\n",
    "    for l in line: nids2.append(int(l))\n",
    "    idxs = np.asarray(idxs)\n",
    "    idxsA = list(idxs[nids1])\n",
    "    idxsB = list(idxs[nids2])\n",
    "    \n",
    "    plot_graph(J, idxsA + idxsB,[len(idxsA), len(idxsB)]) \n",
    "        \n",
    "        \n",
    "plot_graph(Jbaseline, list(thalamus) + list(telen) + list(tectum), [len(thalamus), len(telen), len(tectum)], alpha=0.20)\n",
    "plot_graph(Jpresz, list(thalamus) + list(telen) + list(tectum), [len(thalamus), len(telen), len(tectum)], alpha=0.20)\n",
    "#####\n",
    "\n",
    "  \n",
    "# cwd = os.getcwd()\n",
    "# graph_output_filepath = cwd+'/hoa-baseline.txt'\n",
    "# plot_graph2(Jbaseline, list(tectum), graph_output_filepath)\n",
    "# graph_output_filepath = cwd+'/hoa-presz.txt'\n",
    "# plot_graph2(Jpresz, list(tectum), graph_output_filepath)\n"
   ]
  },
  {
   "cell_type": "code",
   "execution_count": 288,
   "metadata": {
    "scrolled": false
   },
   "outputs": [
    {
     "name": "stdout",
     "output_type": "stream",
     "text": [
      "Using matplotlib backend: Qt5Agg\n"
     ]
    },
    {
     "data": {
      "text/plain": [
       "0"
      ]
     },
     "execution_count": 288,
     "metadata": {},
     "output_type": "execute_result"
    }
   ],
   "source": [
    "%matplotlib auto \n",
    "\n",
    "def get_positions(J, idxs, member_szs, alpha=0.4):\n",
    "    \n",
    "    Jth = jthreshold(J,90.,above=True, pos=True, binarized=True)\n",
    "    Jth_reduced = Jth[idxs,:][:,idxs]\n",
    "    Jth_reduced = Jth_reduced.T\n",
    "    partition = []\n",
    "    i = 0\n",
    "    for sz in member_szs:\n",
    "        partition.extend([i for _ in range(sz)])\n",
    "        i += 1\n",
    "    \n",
    "    pos = {}\n",
    "    for (i, p) in enumerate(partition):\n",
    "        center = None\n",
    "        if p == 0:\n",
    "            center = [0,0]\n",
    "        elif p == 1:\n",
    "            center = [-1,0]\n",
    "        elif p == 2:\n",
    "            center = [1,0]\n",
    "            \n",
    "        shift = np.random.uniform(-0.25, 0.25, size=(2,))\n",
    "        pos[i] = center + shift\n",
    "    return pos\n",
    "\n",
    "\n",
    "from matplotlib.widgets import Slider, Button\n",
    "import matplotlib.cm as cm\n",
    "\n",
    "vmin_thalamus, vmax_thalamus = np.percentile(presz_data['Ytruth'][thalamus_idxs,:], 5.), np.percentile(presz_data['Ytruth'][thalamus_idxs,:], 95.)\n",
    "vmin_tectum, vmax_tectum = np.percentile(presz_data['Ytruth'][tectum_idxs,:], 5.), np.percentile(presz_data['Ytruth'][tectum_idxs,:], 95.)\n",
    "vmin_telen, vmax_telen = np.percentile(presz_data['Ytruth'][telen_idxs,:], 5.), np.percentile(presz_data['Ytruth'][telen_idxs,:], 95.)\n",
    "\n",
    "\n",
    "\n",
    "def get_colors(inp, colormap, idx):\n",
    "    vmin, vmax= None, None\n",
    "    if idx == 0:\n",
    "        vmin, vmax = vmin_thalamus, vmax_thalamus\n",
    "    elif idx == 1:\n",
    "        vmin, vmax = vmin_telen, vmax_telen\n",
    "    elif idx == 2:\n",
    "        vmin, vmax = vmin_tectum, vmax_tectum\n",
    "        \n",
    "    norm = plt.Normalize(vmin, vmax)\n",
    "    return colormap(norm(inp))\n",
    "\n",
    "def plot_activity(pos_xy, member_szs, traces, t):\n",
    "    \n",
    "    i = 0\n",
    "    for (sz_idx, sz) in enumerate(member_szs):\n",
    "        current_traces = traces[sz_idx][:,t]\n",
    "        colors = get_colors(current_traces, plt.cm.inferno, sz_idx)\n",
    "           \n",
    "        ax[0].scatter(*pos_xy[i:i+sz,:].T, color=colors)\n",
    "        i += sz\n",
    "    mt0 = np.mean(traces[0], axis=0)\n",
    "    mt1 = np.mean(traces[1], axis=0)\n",
    "    mt2 = np.mean(traces[2], axis=0)\n",
    "    \n",
    "    ax[1].clear()\n",
    "    ax11 = ax[1].twinx()\n",
    "    ax11.plot(mt0,color='k', label='thalamus')\n",
    "    ax[1].plot(mt1,color='b', label='telen')\n",
    "    ax[1].plot(mt2,color='g', label='tectum') \n",
    "    ax[1].axvline(t, -1, 1, color='r')\n",
    "\n",
    "#pos = get_positions(Jbaseline, list(thalamus) + list(telen) + list(tectum), [len(thalamus), len(telen), len(tectum)] )\n",
    "pos_xy = []\n",
    "for key in np.sort(list(pos.keys())):\n",
    "    pos_xy.append(pos[key])\n",
    "pos_xy = np.asarray(pos_xy, dtype='float32')\n",
    "                            \n",
    "fig, ax = plt.subplots(2,1)\n",
    "slider = Slider(plt.axes([0.25, 0.1, 0.65, 0.03]), 'time', 0, presz_data['Ytruth'].shape[1]-1, valinit=0)\n",
    "\n",
    "\n",
    "def update(val):\n",
    "    t = int(slider.val)\n",
    "    plot_activity(pos_xy,[len(thalamus), len(telen), len(tectum)], \n",
    "                 [presz_data['Ytruth'][thalamus_idxs,:], presz_data['Ytruth'][telen_idxs,:], presz_data['Ytruth'][tectum_idxs,:]],\n",
    "                 t)   \n",
    "\n",
    "\n",
    "    \n",
    "\n",
    "slider.on_changed(update)\n",
    "   \n"
   ]
  },
  {
   "cell_type": "code",
   "execution_count": 89,
   "metadata": {},
   "outputs": [
    {
     "data": {
      "text/plain": [
       "([], <a list of 0 Text xticklabel objects>)"
      ]
     },
     "execution_count": 89,
     "metadata": {},
     "output_type": "execute_result"
    },
    {
     "data": {
      "image/png": "[encoded data removed]",
      "text/plain": [
       "<Figure size 720x288 with 1 Axes>"
      ]
     },
     "metadata": {
      "needs_background": "light"
     },
     "output_type": "display_data"
    }
   ],
   "source": [
    "%matplotlib inline\n",
    "\n",
    "# connected component tectum\n",
    "\n",
    "cc_baseline_edge = [179, 374, 152]\n",
    "cc_presz_edge    = [224, 415, 234]\n",
    "\n",
    "cc_baseline_m8 = [118, 280, 101]\n",
    "cc_presz_m8    = [215, 371, 203]\n",
    "\n",
    "cc_baseline_m10 = [170, 374, 140]\n",
    "cc_presz_m10    = [224, 415, 232]\n",
    "\n",
    "cc_baseline_bifan = [7, 132, 16]\n",
    "cc_presz_bifan    = [131, 213, 103]\n",
    "\n",
    "\n",
    "plt.figure(figsize=(10,4))\n",
    "for i in range(3):\n",
    "    plt.plot( [0,1], [cc_baseline_edge[i], cc_presz_edge[i]], color='k')\n",
    "    plt.plot( [2,3], [cc_baseline_m8[i], cc_presz_m8[i]], color='k')\n",
    "    plt.plot( [4,5], [cc_baseline_m10[i], cc_presz_m10[i]], color='k')\n",
    "    plt.plot( [6,7], [cc_baseline_bifan[i], cc_presz_bifan[i]], color='k')\n",
    "    \n",
    "plt.xticks([])\n",
    "\n",
    "\n"
   ]
  },
  {
   "cell_type": "code",
   "execution_count": 90,
   "metadata": {},
   "outputs": [
    {
     "data": {
      "text/plain": [
       "([], <a list of 0 Text xticklabel objects>)"
      ]
     },
     "execution_count": 90,
     "metadata": {},
     "output_type": "execute_result"
    },
    {
     "data": {
      "image/png": "[encoded data removed]",
      "text/plain": [
       "<Figure size 720x288 with 1 Axes>"
      ]
     },
     "metadata": {
      "needs_background": "light"
     },
     "output_type": "display_data"
    }
   ],
   "source": [
    "%matplotlib inline\n",
    "# cluster size telen\n",
    "\n",
    "cc_baseline_edge = [87, 182, 45]\n",
    "cc_presz_edge    = [118, 201, 114]\n",
    "\n",
    "cc_baseline_m8 = [15, 132, 11]\n",
    "cc_presz_m8    = [100, 179, 100]\n",
    "\n",
    "cc_baseline_m10 = [70, 165, 68]\n",
    "cc_presz_m10    = [120, 203, 115]\n",
    "\n",
    "cc_baseline_bifan = [3, 10, 6]\n",
    "cc_presz_bifan    = [64, 156, 34]\n",
    "\n",
    "\n",
    "plt.figure(figsize=(10,4))\n",
    "for i in range(3):\n",
    "    plt.plot( [0,1], [cc_baseline_edge[i], cc_presz_edge[i]], color='k')\n",
    "    plt.plot( [2,3], [cc_baseline_m8[i], cc_presz_m8[i]], color='k')\n",
    "    plt.plot( [4,5], [cc_baseline_m10[i], cc_presz_m10[i]], color='k')\n",
    "    plt.plot( [6,7], [cc_baseline_bifan[i], cc_presz_bifan[i]], color='k')\n",
    "    \n",
    "plt.xticks([])"
   ]
  },
  {
   "cell_type": "code",
   "execution_count": 91,
   "metadata": {},
   "outputs": [
    {
     "data": {
      "text/plain": [
       "([], <a list of 0 Text xticklabel objects>)"
      ]
     },
     "execution_count": 91,
     "metadata": {},
     "output_type": "execute_result"
    },
    {
     "data": {
      "image/png": "[encoded data removed]",
      "text/plain": [
       "<Figure size 720x288 with 1 Axes>"
      ]
     },
     "metadata": {
      "needs_background": "light"
     },
     "output_type": "display_data"
    }
   ],
   "source": [
    "%matplotlib inline\n",
    "# conductance telen\n",
    "\n",
    "cc_baseline_edge = [0.08, 0.22, 0.1]\n",
    "cc_presz_edge    = [0.252, 0.298, 0.238]\n",
    "\n",
    "cc_baseline_m8 = [0.138, 0.25, 0.16]\n",
    "cc_presz_m8    = [0.234, 0.331, 0.26]\n",
    "\n",
    "cc_baseline_m10 = [0.07, 0.2, 0.095]\n",
    "cc_presz_m10    = [0.268, 0.287, 0.254]\n",
    "\n",
    "cc_baseline_bifan = [0.33, 0.05, 0.11]\n",
    "cc_presz_bifan    = [0.119, 0.235, 0.08]\n",
    "\n",
    "\n",
    "plt.figure(figsize=(10,4))\n",
    "for i in range(3):\n",
    "    plt.plot( [0,1], [cc_baseline_edge[i], cc_presz_edge[i]], color='k')\n",
    "    plt.plot( [2,3], [cc_baseline_m8[i], cc_presz_m8[i]], color='k')\n",
    "    plt.plot( [4,5], [cc_baseline_m10[i], cc_presz_m10[i]], color='k')\n",
    "    #plt.plot( [6,7], [cc_baseline_bifan[i], cc_presz_bifan[i]], color='k')\n",
    "    \n",
    "plt.xticks([])"
   ]
  }
 ],
 "metadata": {
  "kernelspec": {
   "display_name": "Python 3",
   "language": "python",
   "name": "python3"
  },
  "language_info": {
   "codemirror_mode": {
    "name": "ipython",
    "version": 3
   },
   "file_extension": ".py",
   "mimetype": "text/x-python",
   "name": "python",
   "nbconvert_exporter": "python",
   "pygments_lexer": "ipython3",
   "version": "3.7.4"
  }
 },
 "nbformat": 4,
 "nbformat_minor": 2
}
