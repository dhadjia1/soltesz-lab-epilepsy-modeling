{
 "cells": [
  {
   "cell_type": "code",
   "execution_count": 1,
   "metadata": {},
   "outputs": [],
   "source": [
    "import numpy as np\n",
    "from copy import deepcopy\n",
    "from pprint import pprint\n",
    "import sys, os, time\n",
    "import matplotlib\n",
    "import matplotlib.pyplot as plt\n",
    "from mpl_toolkits import mplot3d\n",
    "from matplotlib.pyplot import cm\n",
    "\n",
    "\n",
    "sys.path.append('/mnt/e/dhh-soltesz-lab/zfish-proj/src-parallel/operation-figgeritout/comp-modeling/utils')\n",
    "\n",
    "from futils import extract_weights, get_ei, gaussian_mixture_modeling, jthreshold, permute_weights\n",
    "from modeling_analysis_utils import extract_top_J, load_simulation_parameters, plot_example_traces\n",
    "from rnn_modeling_utils import solve_stochastic_euler\n",
    "from graph_utils import generate_snap_unweighted_graph, leiden_clustering, run_motif_counting_algorithm, read_motif_counts\n",
    "font = {'family' : 'normal',\n",
    "        'weight' : 'bold',\n",
    "        'size'   : 22}\n",
    "\n",
    "matplotlib.rc('font', **font)\n",
    "\n",
    "%load_ext autoreload\n",
    "%autoreload 2\n",
    "\n",
    "## ei analysis, modularity analysis, motif analysis"
   ]
  },
  {
   "cell_type": "code",
   "execution_count": 3,
   "metadata": {},
   "outputs": [],
   "source": [
    "FISH_ID = 2\n",
    "version = 1\n",
    "\n",
    "def acquire_info(date, state, idx):\n",
    "    J_filepath           = '/mnt/f/dhh-soltesz-lab/zfish-modeling-outputs/f%i/%s/v%i/training-%s' % (FISH_ID, state, version, date)\n",
    "    parameters_filepath  = '/mnt/f/dhh-soltesz-lab/zfish-modeling-outputs/f%i/%s/v%i/additional-info-%s.npz' % (FISH_ID, state, version, date)\n",
    "\n",
    "    f = np.load(J_filepath + '/full-%s-%i.npz' % (state,idx), allow_pickle=True)\n",
    "    J = f['J']\n",
    "    N = J.shape[0]\n",
    "    f.close()\n",
    "\n",
    "    simulation_kwargs = load_simulation_parameters(parameters_filepath)\n",
    "    simulation_kwargs['J'] = J\n",
    "\n",
    "    Ytruth = simulation_kwargs['Ytruth']\n",
    "    currents    = solve_stochastic_euler(**simulation_kwargs)\n",
    "    activations = np.tanh(currents)\n",
    "    Ymodel      = np.matmul(J, activations)\n",
    "\n",
    "\n",
    "    simulation_kwargs['H'] = np.zeros_like(simulation_kwargs['H'], dtype='float32')\n",
    "    currents_naked    = solve_stochastic_euler(**simulation_kwargs)\n",
    "    activations_naked = np.tanh(currents_naked)\n",
    "    Ymodel_naked     = np.matmul(J, activations_naked)\n",
    "    \n",
    "    return {'spatial': simulation_kwargs['spatial'], 'S': simulation_kwargs['S'], 'J': J, 'Ytruth': Ytruth, 'Ymodel': Ymodel, 'Ymodel naked': Ymodel_naked, 'currents': currents, 'currents naked': currents_naked}\n",
    "\n",
    "# 2 381 270\n",
    "# 3 646 285\n",
    "# 5 362 83\n",
    "\n",
    "baseline_data = acquire_info('3152020', 'baseline', 381)\n",
    "presz_data    = acquire_info('3152020', 'presz', 270)\n",
    "\n",
    "Jbaseline = baseline_data['J']\n",
    "Jpresz    = presz_data['J']"
   ]
  },
  {
   "cell_type": "code",
   "execution_count": 5,
   "metadata": {},
   "outputs": [],
   "source": [
    "S = baseline_data['S']\n",
    "min_nonzero  = np.min(S[S > 0])\n",
    "S = np.log10(S + min_nonzero)\n",
    "maxS, minS = np.max(S), np.min(S)\n",
    "S    = ((S - minS) / (maxS - minS))\n",
    "S += min_nonzero"
   ]
  },
  {
   "cell_type": "code",
   "execution_count": 9,
   "metadata": {},
   "outputs": [
    {
     "name": "stdout",
     "output_type": "stream",
     "text": [
      "Using matplotlib backend: Qt5Agg\n"
     ]
    }
   ],
   "source": [
    "from copy import deepcopy\n",
    "import scipy.cluster.hierarchy as sch\n",
    "from scipy.spatial.distance import squareform\n",
    "\n",
    "\n",
    "#Z = sch.linkage(S, method='ward', metric='euclidean')\n",
    "#inds   = sch.fcluster(Z, 2, 'maxclust')\n",
    "\n",
    "%matplotlib auto\n",
    "import matplotlib.cm as cm\n",
    "colors = cm.Dark2(np.linspace(0,1,len(set(inds))))\n",
    "\n",
    "fig = plt.figure(figsize=(12,8))\n",
    "ax = plt.axes(projection='3d')\n",
    "ax.scatter(*baseline_data['spatial'].T, color='k', alpha=0.05)\n",
    "\n",
    "for (i, ind) in enumerate(set(inds)):\n",
    "    ax.scatter(*baseline_data['spatial'][np.where(inds==ind)[0],:].T, color=colors[i], alpha=0.75)\n",
    "   \n",
    "# ax.scatter(*coords[np.where(inds==1)[0],:].T, color='r', alpha=0.25)\n",
    "# ax.scatter(*coords[np.where(inds==2)[0],:].T, color='b', alpha=0.25)\n",
    "#ax.scatter(*coords[np.where(inds==3)[0],:].T, color='g')\n",
    "#ax.scatter(*coords[np.where(inds==4)[0],:].T, color='m')\n",
    "\n",
    "ax.view_init(90,0)\n",
    "plt.show()"
   ]
  },
  {
   "cell_type": "code",
   "execution_count": 13,
   "metadata": {
    "scrolled": true
   },
   "outputs": [],
   "source": [
    "%matplotlib inline \n",
    "\n",
    "def plot_partitions(partition, spatial_coords):\n",
    "    partition = np.asarray(partition)\n",
    "    part_set = list(set(partition))\n",
    "    nparts   = len(part_set)\n",
    "    partition_szs = []\n",
    "    coor_partitions = {}\n",
    "    for part in part_set:\n",
    "        partition_locs = np.where(partition == part)[0]\n",
    "        coor_partitions[part] = spatial_coords[partition_locs,:]   \n",
    "        partition_szs.append(len(partition_locs))\n",
    "    \n",
    "    colors=cm.Dark2(np.linspace(0,1,nparts))\n",
    "    print(len(colors), nparts)\n",
    "    \n",
    "    fig = plt.figure(figsize=(12,8))\n",
    "    ax = plt.axes(projection='3d') \n",
    "    for key in np.sort(list(coor_partitions.keys())):\n",
    "        current_coords = coor_partitions[key]\n",
    "        ax.scatter(*current_coords.T, color=colors[key])\n",
    "    ax.view_init(-90,0)\n",
    "    plt.show()\n",
    "\n",
    "#     fig = plt.figure(figsize=(12,8))\n",
    "#     ax = plt.axes(projection='3d') \n",
    "#     for key in list(coor_partitions.keys()):\n",
    "#         current_coords = coor_partitions[key]\n",
    "#         ax.scatter(*current_coords.T, color=colors[key])\n",
    "#     ax.view_init(45,0)\n",
    "#     plt.show()\n",
    "    \n",
    "#     fig = plt.figure(figsize=(12,8))\n",
    "#     ax = plt.axes(projection='3d') \n",
    "#     for key in list(coor_partitions.keys()):\n",
    "#         current_coords = coor_partitions[key]\n",
    "#         ax.scatter(*current_coords.T, color=colors[key])\n",
    "#     ax.view_init(45,180)\n",
    "#     plt.show()\n",
    "     \n",
    "def reorganize(J, labels):\n",
    "    import matplotlib.patches as patches\n",
    "    labels = np.asarray(labels, dtype='uint32')\n",
    "    Jreorganized = np.zeros_like(J, dtype='float32')\n",
    "    count = 0\n",
    "    label_set = list(set(labels))\n",
    "    patches_lst = []\n",
    "    for label in label_set:\n",
    "        idxs = np.where(labels == label)[0]\n",
    "        lidx = len(idxs)\n",
    "        Jreorganized[count:count+lidx,:] = J[idxs,:]\n",
    "        Jreorganized[:,count:count+lidx] = J[:,idxs]\n",
    "        patches_lst.append(patches.Rectangle((count,count), lidx, lidx, linewidth=2, edgecolor='r', facecolor='none'))\n",
    "        count += lidx\n",
    "    \n",
    "    fig, ax = plt.subplots(1,2,figsize=(12,8))\n",
    "    ax[0].imshow(J, cmap='gray_r', vmin=0., vmax=1.)\n",
    "    ax[1].imshow(Jreorganized, cmap='gray_r', vmin=0., vmax=1.)\n",
    "    for p in patches_lst:\n",
    "        ax[1].add_patch(p)\n",
    "    plt.show()\n",
    "\n",
    "def run_mod(J, spatial, part=None):\n",
    "\n",
    "    #Jth = jthreshold(J,50.,above=True, pos=True,binarized=True)\n",
    "    #Jmembership, Jmod = leiden_clustering(Jth.T, directed=True)\n",
    "    #reorganize(Jth, Jmembership)\n",
    "    #print(Jmod, len(set(Jmembership)))\n",
    "    #plot_partitions(Jmembership, spatial)\n",
    "\n",
    "    #Jth = jthreshold(J,75.,above=True,pos=True,binarized=True)\n",
    "    #Jmembership, Jmod = leiden_clustering(Jth.T, directed=True, part=part)\n",
    "    #print(Jmod)\n",
    "    #reorganize(Jth, Jmembership)\n",
    "    #plot_partitions(Jmembership, baseline_data['spatial'])\n",
    "\n",
    "\n",
    "    Jth = jthreshold(J,50.,above=True,pos=True,binarized=True)\n",
    "    #Jmembership, Jmod = leiden_clustering(Jth.T, directed=True, part=part)\n",
    "    #reorganize(Jth, Jmembership)\n",
    "    #print(Jmod, len(set(Jmembership)))\n",
    "    #plot_partitions(Jmembership, spatial)\n",
    "\n",
    "    #Jth = jthreshold(J,95.,above=True,pos=True,binarized=True)\n",
    "    #Jmembership, Jmod = leiden_clustering(Jth.T, directed=True)\n",
    "    #reorganize(Jth, Jmembership)\n",
    "    #print(Jmod, len(set(Jmembership)))\n",
    "    #plot_partitions(Jmembership, simulation_kwargs['spatial'])\n",
    "    #return Jmembership\n",
    "\n",
    "\n",
    "#run_mod(Jbaseline, baseline_data['spatial'], part=inds)\n",
    "#run_mod(Jpresz, baseline_data['spatial'], part=inds)"
   ]
  },
  {
   "cell_type": "code",
   "execution_count": 165,
   "metadata": {},
   "outputs": [
    {
     "name": "stdout",
     "output_type": "stream",
     "text": [
      "baseline done..\n",
      "presz done..\n"
     ]
    }
   ],
   "source": [
    "# from graph_utils import get_clustering_coefficient, generate_nx_graph, get_transitivity\n",
    "\n",
    "# Jbaseline_th    = jthreshold(Jbaseline,90.,above=True,pos=True,binarized=True)\n",
    "# baseline_sgraph = generate_nx_graph(Jbaseline_th.T, directed=True)\n",
    "# baseline_nids, baseline_ccs = get_clustering_coefficient(baseline_sgraph, gtype='nx')\n",
    "# baseline_trans = get_transitivity(baseline_sgraph)\n",
    "\n",
    "# print('baseline done..')\n",
    "\n",
    "# Jpresz_th    = jthreshold(Jpresz, 90., above=True, pos=True, binarized=True)\n",
    "# presz_sgraph = generate_nx_graph(Jpresz_th.T, directed=True)\n",
    "# presz_nids, presz_ccs = get_clustering_coefficient(presz_sgraph, gtype='nx')\n",
    "# presz_trans = get_transitivity(presz_sgraph)\n",
    "# print('presz done..')\n",
    "\n",
    "# def get_triads(sgraph):\n",
    "#     import snap\n",
    "#     result = snap.GetTriadsAll(sgraph)\n",
    "#     return result[0], result[2]\n",
    "\n",
    "# baseline_closed_triads, baseline_open_triads = get_triads(baseline_sgraph)\n",
    "# presz_closed_triads, presz_open_triads = get_triads(presz_sgraph)\n",
    "\n",
    "# baseline_ratio = baseline_closed_triads / float(baseline_closed_triads + baseline_open_triads)\n",
    "# presz_ratio    = presz_closed_triads / float(presz_closed_triads + presz_open_triads)\n",
    "# print(baseline_ratio, presz_ratio)\n",
    "\n",
    "# print('baseline transitivity: %0.3f. presz transitivity: %0.3f' % (baseline_trans, presz_trans))\n",
    "# print('baseline mean cc: %f. presz mean cc: %f' % (np.mean(baseline_ccs), np.mean(presz_ccs)))\n",
    "\n",
    "# bins = np.linspace(0, 0.1, 100)\n",
    "# plt.figure(figsize=(12,8))\n",
    "# plt.hist(baseline_ccs, rwidth=1, color='k', bins=bins, density=True, alpha=0.5)\n",
    "# plt.axvline(x=np.mean(baseline_ccs), ymin=0, ymax=1200, color='white', linestyle='--', linewidth=2)\n",
    "\n",
    "# plt.hist(presz_ccs, rwidth=1, color='r', bins=bins, density=True, alpha=0.5)\n",
    "# plt.axvline(x=np.mean(presz_ccs), ymin=0, ymax=1200, color='white', linestyle='--', linewidth=2)\n"
   ]
  },
  {
   "cell_type": "code",
   "execution_count": 15,
   "metadata": {},
   "outputs": [],
   "source": [
    "threshold = 80\n",
    "for J, state in list(zip([Jbaseline, Jpresz], ['baseline', 'presz'])):\n",
    "    J = J.T\n",
    "    cwd = os.getcwd()\n",
    "    graph_output_dir = cwd + '/motif-analysis/f%i/%s/%s/original' % (FISH_ID, state, threshold)\n",
    "    sgraph_filepath  = graph_output_dir + '/original-graph.txt'\n",
    "    motif_filepath   = graph_output_dir + '/motif-counts.txt'\n",
    "\n",
    "    Jth = jthreshold(J,threshold,above=True,pos=True,binarized=True)\n",
    "    sgraph = generate_snap_unweighted_graph(Jth, directed=True, save=sgraph_filepath)\n",
    "    run_motif_counting_algorithm(sgraph_filepath, motif_filepath, cwd)\n",
    "\n"
   ]
  },
  {
   "cell_type": "code",
   "execution_count": 12,
   "metadata": {},
   "outputs": [
    {
     "name": "stdout",
     "output_type": "stream",
     "text": [
      "acquired original counts for baseline\n",
      "acquired permutated counts for baseline\n",
      "acquired original counts for presz\n",
      "acquired permutated counts for presz\n"
     ]
    }
   ],
   "source": [
    "from pprint import pprint\n",
    "def read_permutation_counts(filepath, iterations, verbose):\n",
    "    full_dict = {}\n",
    "    for i in range(iterations):\n",
    "        current_filepath = filepath + '/permuted-motifs-%i.txt-counts.tab' % i\n",
    "        current_count_dict = read_motif_counts(current_filepath)\n",
    "        \n",
    "        for (k,v) in current_count_dict.items():\n",
    "            if k not in full_dict:\n",
    "                full_dict[k] = []\n",
    "            full_dict[k].append(v)\n",
    "            \n",
    "        if verbose and i % 50 == 0: print(i)\n",
    "    return full_dict\n",
    "\n",
    "def getcounts(state, iterations, threshold, verbose):\n",
    "    \n",
    "    cwd = os.getcwd()\n",
    "    graph_output_dir = cwd + '/motif-analysis/f%i/%s/%s/original' % (FISH_ID, state, threshold)\n",
    "    motif_filepath =  graph_output_dir + '/motif-counts.txt'\n",
    "    original_count_dict = read_motif_counts(motif_filepath+'-counts.tab')\n",
    "    print('acquired original counts for %s' % state)\n",
    "    permuted_count_dict = read_permutation_counts(cwd + '/motif-analysis/f%i/%s/%s/permuted/motifs' % (FISH_ID,state,threshold), 500, verbose)\n",
    "    print('acquired permutated counts for %s' % state)\n",
    "    \n",
    "    return original_count_dict, permuted_count_dict\n",
    "\n",
    "baseline_original_count_dict, baseline_permuted_count_dict = getcounts('baseline', 500, 90, False)\n",
    "presz_original_count_dict, presz_permuted_count_dict       = getcounts('presz', 500, 90, False)\n",
    "    \n"
   ]
  },
  {
   "cell_type": "code",
   "execution_count": 24,
   "metadata": {
    "scrolled": false
   },
   "outputs": [
    {
     "name": "stderr",
     "output_type": "stream",
     "text": [
      "/mnt/d/anaconda3/lib/python3.7/site-packages/ipykernel_launcher.py:14: RuntimeWarning: invalid value encountered in true_divide\n",
      "  \n",
      "/mnt/d/anaconda3/lib/python3.7/site-packages/ipykernel_launcher.py:49: RuntimeWarning: divide by zero encountered in long_scalars\n",
      "/mnt/d/anaconda3/lib/python3.7/site-packages/ipykernel_launcher.py:49: RuntimeWarning: invalid value encountered in long_scalars\n"
     ]
    },
    {
     "name": "stdout",
     "output_type": "stream",
     "text": [
      "--- baseline original with presz_original\n",
      "[(2582692, 2751930), (760045, 813736), (270, 288), (2554268, 2394398), (21853, 22545), (0, 1), (506, 420), (0, 0), (8, 21), (0, 1), (6, 12), (0, 0), (0, 0)]\n",
      "--- baseline surrogate means vs presz surrogate means\n",
      "[(1187617.376, 1200479.24), (2375154.64, 2401282.222), (12037.566, 12173.352), (1187541.988, 1200555.834), (11958.672, 12153.81), (29.66, 30.346), (12044.718, 12174.628), (30.266, 30.838), (3986.586, 4051.224), (60.572, 61.262), (30.462, 30.708), (0.33, 0.274), (0.0, 0.0)]\n",
      "--- base surrogate stds vs presz surrogate stds\n",
      "[(1312.4474323278628, 1341.0927299780578), (1966.79382203626, 2065.986426072543), (713.0683400937108, 735.5795593244826), (1400.938415440165, 1374.1010160988894), (113.2413547075449, 113.11962650221224), (5.774114650749499, 5.617676031954851), (706.7022898477123, 740.2829307879522), (6.507168662329263, 6.393102220362192), (64.40365365412121, 65.24840093059753), (8.694872972045077, 8.86258179087787), (5.603976802236069, 5.865384556872636), (0.5595533933415113, 0.5166468813415988), (0.0, 0.0)]\n",
      "----- baseline z vs presz z\n",
      "[(1062.9565723067346, 1156.8556933608788), (-821.1890956256135, -768.4204513472716), (-16.502718376829797, -16.15780624860604), (975.5789383294085, 868.8168861044516), (87.3738046100995, 91.86018661223906), (-5.1367182319717255, -5.223868345748681), (-16.327551453790374, -15.878561440675734), (-4.651178042335571, -4.823636309424272), (-61.77578094197779, -61.76739877942465), (-6.966404247048265, -6.7995987424372), (-4.36511442913884, -3.1895606875561655), (-0.5897560517492773, -0.5303428896899419), (nan, nan)]\n",
      "----\n",
      "zdiff\n",
      "[ 9.38991211e+01  5.27686443e+01  3.44912128e-01 -1.06762052e+02\n",
      "  4.48638200e+00 -8.71501138e-02  4.48990013e-01 -1.72458267e-01\n",
      "  8.38216255e-03  1.66805505e-01  1.17555374e+00  5.94131621e-02\n",
      "             nan]\n",
      "---\n",
      "0 0.06552775166376788\n",
      "1 0.07064186988928287\n",
      "2 0.06666666666666667\n",
      "3 -0.06258936023941106\n",
      "4 0.031666132796412394\n",
      "5 inf\n",
      "6 -0.16996047430830039\n",
      "7 nan\n",
      "8 1.625\n",
      "9 inf\n",
      "10 1.0\n",
      "11 nan\n",
      "12 nan\n"
     ]
    },
    {
     "data": {
      "image/png": "[encoded data removed]",
      "text/plain": [
       "<Figure size 864x576 with 1 Axes>"
      ]
     },
     "metadata": {
      "needs_background": "light"
     },
     "output_type": "display_data"
    },
    {
     "data": {
      "image/png": "[encoded data removed]",
      "text/plain": [
       "<Figure size 864x576 with 1 Axes>"
      ]
     },
     "metadata": {
      "needs_background": "light"
     },
     "output_type": "display_data"
    },
    {
     "data": {
      "image/png": "[encoded data removed]",
      "text/plain": [
       "<Figure size 864x576 with 1 Axes>"
      ]
     },
     "metadata": {
      "needs_background": "light"
     },
     "output_type": "display_data"
    },
    {
     "data": {
      "image/png": "[encoded data removed]",
      "text/plain": [
       "<Figure size 864x576 with 1 Axes>"
      ]
     },
     "metadata": {
      "needs_background": "light"
     },
     "output_type": "display_data"
    }
   ],
   "source": [
    "def plot(original_count_dict, permuted_count_dict):\n",
    "    means, stds = [], []\n",
    "    original = []\n",
    "    keys = []\n",
    "    for k in np.sort(list(original_count_dict.keys())):\n",
    "        keys.append(k)\n",
    "        original.append(original_count_dict[k])\n",
    "        means.append(np.mean(permuted_count_dict[k]))\n",
    "        stds.append(np.std(permuted_count_dict[k]))\n",
    "    original = np.asarray(original)\n",
    "    means    = np.asarray(means)\n",
    "    stds     = np.asarray(stds)\n",
    "    \n",
    "    z = (original - means) / stds\n",
    "    x = np.arange(len(z))\n",
    "    width=0.2\n",
    "    plt.figure(figsize=(12,8))\n",
    "    plt.bar(x-width/2,original,width, color='k')\n",
    "    plt.bar(x+width/2, means,width, color='r', yerr=stds, ecolor='b')\n",
    "    plt.yscale('log')\n",
    "    plt.title('permuted-red:original-black')\n",
    "\n",
    "    return np.asarray(original), means, stds, z\n",
    "   \n",
    "    \n",
    "baseline_original, baseline_means, baseline_stds, baseline_motif_z = plot(baseline_original_count_dict, baseline_permuted_count_dict)\n",
    "presz_original, presz_means, presz_stds, presz_motif_z    = plot(presz_original_count_dict, presz_permuted_count_dict)\n",
    "\n",
    "width=0.2\n",
    "x = np.arange(len(baseline_motif_z))\n",
    "# plt.figure(figsize=(12,8))\n",
    "# plt.bar(x-width/2,baseline_original,width, color='k')\n",
    "# plt.bar(x+width/2,presz_original,width, color='r')\n",
    "# plt.yscale('log')\n",
    "print('--- baseline original with presz_original')\n",
    "print(list(zip(baseline_original, presz_original)))\n",
    "print('--- baseline surrogate means vs presz surrogate means')\n",
    "print(list(zip(baseline_means, presz_means)))\n",
    "print('--- base surrogate stds vs presz surrogate stds')\n",
    "print(list(zip(baseline_stds, presz_stds)))\n",
    "print('----- baseline z vs presz z')\n",
    "print(list(zip(baseline_motif_z, presz_motif_z)))\n",
    "print('----')\n",
    "print('zdiff')\n",
    "print(presz_motif_z - baseline_motif_z)\n",
    "print('---')\n",
    "for i in range(len(baseline_original)):\n",
    "    diff = presz_original[i] - baseline_original[i]\n",
    "    print(i, diff / baseline_original[i])\n",
    "\n",
    "# plt.figure(figsize=(12,8))\n",
    "# plt.bar(x-width/2,baseline_means,width, color='k', yerr=baseline_stds, ecolor='b')\n",
    "# plt.bar(x+width/2,presz_means,width, color='r', yerr=presz_stds, ecolor='b')\n",
    "# plt.yscale('log')\n",
    "# plt.show()\n",
    "\n",
    "plt.figure(figsize=(12,8))\n",
    "plt.bar(x-width/2,baseline_motif_z,width, color='k')\n",
    "plt.bar(x+width/2, baseline_motif_z,width, color='r')\n",
    "plt.xticks(x)\n",
    "plt.show()\n",
    "\n",
    "plt.figure(figsize=(12,8))\n",
    "zdiff = presz_motif_z - baseline_motif_z\n",
    "for i in range(len(zdiff)):\n",
    "    if zdiff[i] >= 0: color = 'b'\n",
    "    else: color='r'\n",
    "    plt.bar(x[i],abs(zdiff[i]),width, color=color)\n",
    "plt.xticks(x)\n",
    "plt.yscale('log')\n",
    "plt.hlines(10, -width/2, max(x), linestyle='--', color='k')\n",
    "plt.show()"
   ]
  },
  {
   "cell_type": "code",
   "execution_count": 26,
   "metadata": {},
   "outputs": [
    {
     "data": {
      "image/png": "[encoded data removed]",
      "text/plain": [
       "<Figure size 864x576 with 1 Axes>"
      ]
     },
     "metadata": {
      "needs_background": "light"
     },
     "output_type": "display_data"
    },
    {
     "data": {
      "image/png": "[encoded data removed]",
      "text/plain": [
       "<Figure size 864x576 with 1 Axes>"
      ]
     },
     "metadata": {
      "needs_background": "light"
     },
     "output_type": "display_data"
    }
   ],
   "source": [
    "plt.figure(figsize=(12,8))\n",
    "zdiff = presz_motif_z - baseline_motif_z\n",
    "for (e,i) in enumerate([0,3,4,8]):\n",
    "    if zdiff[i] >= 0: color = 'b'\n",
    "    else: color='r'\n",
    "    plt.bar(e,abs(zdiff[i]),width, color=color)\n",
    "plt.xticks(x)\n",
    "plt.hlines(10, -width/2, 3, linestyle='--', color='k')\n",
    "plt.ylim([0,120])\n",
    "plt.show()\n",
    "\n",
    "width = 0.2\n",
    "plt.figure(figsize=(12,8))\n",
    "plt.bar(np.arange(4)-width/2,baseline_motif_z[[0,3,4,8]], width, color='k')\n",
    "plt.bar(np.arange(4)+width/2, presz_motif_z[[0,3,4,8]],width, color='r')\n",
    "plt.xticks(np.arange(4))\n",
    "plt.show()"
   ]
  }
 ],
 "metadata": {
  "kernelspec": {
   "display_name": "Python 3",
   "language": "python",
   "name": "python3"
  },
  "language_info": {
   "codemirror_mode": {
    "name": "ipython",
    "version": 3
   },
   "file_extension": ".py",
   "mimetype": "text/x-python",
   "name": "python",
   "nbconvert_exporter": "python",
   "pygments_lexer": "ipython3",
   "version": "3.7.4"
  }
 },
 "nbformat": 4,
 "nbformat_minor": 2
}
